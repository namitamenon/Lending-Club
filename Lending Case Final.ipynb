{
  "nbformat": 4,
  "nbformat_minor": 0,
  "metadata": {
    "kernelspec": {
      "display_name": "Python 3",
      "language": "python",
      "name": "python3"
    },
    "language_info": {
      "codemirror_mode": {
        "name": "ipython",
        "version": 3
      },
      "file_extension": ".py",
      "mimetype": "text/x-python",
      "name": "python",
      "nbconvert_exporter": "python",
      "pygments_lexer": "ipython3",
      "version": "3.7.4"
    },
    "colab": {
      "name": "Lending Club Case Study.ipynb",
      "provenance": [],
      "collapsed_sections": [
        "cW_Nh9eM0hcP",
        "1Q8i0J7B0hc7"
      ]
    }
  },
  "cells": [
    {
      "cell_type": "markdown",
      "metadata": {
        "id": "cW_Nh9eM0hcP",
        "colab_type": "text"
      },
      "source": [
        "# Extracting Data "
      ]
    },
    {
      "cell_type": "code",
      "metadata": {
        "id": "jvxXfOrCG6ka",
        "colab_type": "code",
        "outputId": "f79d70a9-5054-43a2-c607-402e2777c442",
        "colab": {
          "base_uri": "https://localhost:8080/",
          "height": 733
        }
      },
      "source": [
        "import pandas as pd\n",
        "import matplotlib.pyplot as plt\n",
        "import seaborn as sns\n",
        "\n",
        "\n",
        "#Load the the csv File\n",
        "df = pd.read_csv('loan.csv',encoding='UTF-8')\n",
        "\n",
        "df.head() #display the top 5 rows in data"
      ],
      "execution_count": 4,
      "outputs": [
        {
          "output_type": "stream",
          "text": [
            "/usr/local/lib/python3.6/dist-packages/IPython/core/interactiveshell.py:2718: DtypeWarning: Columns (47) have mixed types. Specify dtype option on import or set low_memory=False.\n",
            "  interactivity=interactivity, compiler=compiler, result=result)\n"
          ],
          "name": "stderr"
        },
        {
          "output_type": "execute_result",
          "data": {
            "text/html": [
              "<div>\n",
              "<style scoped>\n",
              "    .dataframe tbody tr th:only-of-type {\n",
              "        vertical-align: middle;\n",
              "    }\n",
              "\n",
              "    .dataframe tbody tr th {\n",
              "        vertical-align: top;\n",
              "    }\n",
              "\n",
              "    .dataframe thead th {\n",
              "        text-align: right;\n",
              "    }\n",
              "</style>\n",
              "<table border=\"1\" class=\"dataframe\">\n",
              "  <thead>\n",
              "    <tr style=\"text-align: right;\">\n",
              "      <th></th>\n",
              "      <th>id</th>\n",
              "      <th>member_id</th>\n",
              "      <th>loan_amnt</th>\n",
              "      <th>funded_amnt</th>\n",
              "      <th>funded_amnt_inv</th>\n",
              "      <th>term</th>\n",
              "      <th>int_rate</th>\n",
              "      <th>installment</th>\n",
              "      <th>grade</th>\n",
              "      <th>sub_grade</th>\n",
              "      <th>emp_title</th>\n",
              "      <th>emp_length</th>\n",
              "      <th>home_ownership</th>\n",
              "      <th>annual_inc</th>\n",
              "      <th>verification_status</th>\n",
              "      <th>issue_d</th>\n",
              "      <th>loan_status</th>\n",
              "      <th>pymnt_plan</th>\n",
              "      <th>url</th>\n",
              "      <th>desc</th>\n",
              "      <th>purpose</th>\n",
              "      <th>title</th>\n",
              "      <th>zip_code</th>\n",
              "      <th>addr_state</th>\n",
              "      <th>dti</th>\n",
              "      <th>delinq_2yrs</th>\n",
              "      <th>earliest_cr_line</th>\n",
              "      <th>inq_last_6mths</th>\n",
              "      <th>mths_since_last_delinq</th>\n",
              "      <th>mths_since_last_record</th>\n",
              "      <th>open_acc</th>\n",
              "      <th>pub_rec</th>\n",
              "      <th>revol_bal</th>\n",
              "      <th>revol_util</th>\n",
              "      <th>total_acc</th>\n",
              "      <th>initial_list_status</th>\n",
              "      <th>out_prncp</th>\n",
              "      <th>out_prncp_inv</th>\n",
              "      <th>total_pymnt</th>\n",
              "      <th>total_pymnt_inv</th>\n",
              "      <th>...</th>\n",
              "      <th>inq_fi</th>\n",
              "      <th>total_cu_tl</th>\n",
              "      <th>inq_last_12m</th>\n",
              "      <th>acc_open_past_24mths</th>\n",
              "      <th>avg_cur_bal</th>\n",
              "      <th>bc_open_to_buy</th>\n",
              "      <th>bc_util</th>\n",
              "      <th>chargeoff_within_12_mths</th>\n",
              "      <th>delinq_amnt</th>\n",
              "      <th>mo_sin_old_il_acct</th>\n",
              "      <th>mo_sin_old_rev_tl_op</th>\n",
              "      <th>mo_sin_rcnt_rev_tl_op</th>\n",
              "      <th>mo_sin_rcnt_tl</th>\n",
              "      <th>mort_acc</th>\n",
              "      <th>mths_since_recent_bc</th>\n",
              "      <th>mths_since_recent_bc_dlq</th>\n",
              "      <th>mths_since_recent_inq</th>\n",
              "      <th>mths_since_recent_revol_delinq</th>\n",
              "      <th>num_accts_ever_120_pd</th>\n",
              "      <th>num_actv_bc_tl</th>\n",
              "      <th>num_actv_rev_tl</th>\n",
              "      <th>num_bc_sats</th>\n",
              "      <th>num_bc_tl</th>\n",
              "      <th>num_il_tl</th>\n",
              "      <th>num_op_rev_tl</th>\n",
              "      <th>num_rev_accts</th>\n",
              "      <th>num_rev_tl_bal_gt_0</th>\n",
              "      <th>num_sats</th>\n",
              "      <th>num_tl_120dpd_2m</th>\n",
              "      <th>num_tl_30dpd</th>\n",
              "      <th>num_tl_90g_dpd_24m</th>\n",
              "      <th>num_tl_op_past_12m</th>\n",
              "      <th>pct_tl_nvr_dlq</th>\n",
              "      <th>percent_bc_gt_75</th>\n",
              "      <th>pub_rec_bankruptcies</th>\n",
              "      <th>tax_liens</th>\n",
              "      <th>tot_hi_cred_lim</th>\n",
              "      <th>total_bal_ex_mort</th>\n",
              "      <th>total_bc_limit</th>\n",
              "      <th>total_il_high_credit_limit</th>\n",
              "    </tr>\n",
              "  </thead>\n",
              "  <tbody>\n",
              "    <tr>\n",
              "      <th>0</th>\n",
              "      <td>1077501</td>\n",
              "      <td>1296599</td>\n",
              "      <td>5000</td>\n",
              "      <td>5000</td>\n",
              "      <td>4975.0</td>\n",
              "      <td>36 months</td>\n",
              "      <td>10.65%</td>\n",
              "      <td>162.87</td>\n",
              "      <td>B</td>\n",
              "      <td>B2</td>\n",
              "      <td>NaN</td>\n",
              "      <td>10+ years</td>\n",
              "      <td>RENT</td>\n",
              "      <td>24000.0</td>\n",
              "      <td>Verified</td>\n",
              "      <td>Dec-11</td>\n",
              "      <td>Fully Paid</td>\n",
              "      <td>n</td>\n",
              "      <td>https://lendingclub.com/browse/loanDetail.acti...</td>\n",
              "      <td>Borrower added on 12/22/11 &gt; I need to upgra...</td>\n",
              "      <td>credit_card</td>\n",
              "      <td>Computer</td>\n",
              "      <td>860xx</td>\n",
              "      <td>AZ</td>\n",
              "      <td>27.65</td>\n",
              "      <td>0</td>\n",
              "      <td>Jan-85</td>\n",
              "      <td>1</td>\n",
              "      <td>NaN</td>\n",
              "      <td>NaN</td>\n",
              "      <td>3</td>\n",
              "      <td>0</td>\n",
              "      <td>13648</td>\n",
              "      <td>83.70%</td>\n",
              "      <td>9</td>\n",
              "      <td>f</td>\n",
              "      <td>0.00</td>\n",
              "      <td>0.00</td>\n",
              "      <td>5863.155187</td>\n",
              "      <td>5833.84</td>\n",
              "      <td>...</td>\n",
              "      <td>NaN</td>\n",
              "      <td>NaN</td>\n",
              "      <td>NaN</td>\n",
              "      <td>NaN</td>\n",
              "      <td>NaN</td>\n",
              "      <td>NaN</td>\n",
              "      <td>NaN</td>\n",
              "      <td>0.0</td>\n",
              "      <td>0</td>\n",
              "      <td>NaN</td>\n",
              "      <td>NaN</td>\n",
              "      <td>NaN</td>\n",
              "      <td>NaN</td>\n",
              "      <td>NaN</td>\n",
              "      <td>NaN</td>\n",
              "      <td>NaN</td>\n",
              "      <td>NaN</td>\n",
              "      <td>NaN</td>\n",
              "      <td>NaN</td>\n",
              "      <td>NaN</td>\n",
              "      <td>NaN</td>\n",
              "      <td>NaN</td>\n",
              "      <td>NaN</td>\n",
              "      <td>NaN</td>\n",
              "      <td>NaN</td>\n",
              "      <td>NaN</td>\n",
              "      <td>NaN</td>\n",
              "      <td>NaN</td>\n",
              "      <td>NaN</td>\n",
              "      <td>NaN</td>\n",
              "      <td>NaN</td>\n",
              "      <td>NaN</td>\n",
              "      <td>NaN</td>\n",
              "      <td>NaN</td>\n",
              "      <td>0.0</td>\n",
              "      <td>0.0</td>\n",
              "      <td>NaN</td>\n",
              "      <td>NaN</td>\n",
              "      <td>NaN</td>\n",
              "      <td>NaN</td>\n",
              "    </tr>\n",
              "    <tr>\n",
              "      <th>1</th>\n",
              "      <td>1077430</td>\n",
              "      <td>1314167</td>\n",
              "      <td>2500</td>\n",
              "      <td>2500</td>\n",
              "      <td>2500.0</td>\n",
              "      <td>60 months</td>\n",
              "      <td>15.27%</td>\n",
              "      <td>59.83</td>\n",
              "      <td>C</td>\n",
              "      <td>C4</td>\n",
              "      <td>Ryder</td>\n",
              "      <td>&lt; 1 year</td>\n",
              "      <td>RENT</td>\n",
              "      <td>30000.0</td>\n",
              "      <td>Source Verified</td>\n",
              "      <td>Dec-11</td>\n",
              "      <td>Charged Off</td>\n",
              "      <td>n</td>\n",
              "      <td>https://lendingclub.com/browse/loanDetail.acti...</td>\n",
              "      <td>Borrower added on 12/22/11 &gt; I plan to use t...</td>\n",
              "      <td>car</td>\n",
              "      <td>bike</td>\n",
              "      <td>309xx</td>\n",
              "      <td>GA</td>\n",
              "      <td>1.00</td>\n",
              "      <td>0</td>\n",
              "      <td>Apr-99</td>\n",
              "      <td>5</td>\n",
              "      <td>NaN</td>\n",
              "      <td>NaN</td>\n",
              "      <td>3</td>\n",
              "      <td>0</td>\n",
              "      <td>1687</td>\n",
              "      <td>9.40%</td>\n",
              "      <td>4</td>\n",
              "      <td>f</td>\n",
              "      <td>0.00</td>\n",
              "      <td>0.00</td>\n",
              "      <td>1008.710000</td>\n",
              "      <td>1008.71</td>\n",
              "      <td>...</td>\n",
              "      <td>NaN</td>\n",
              "      <td>NaN</td>\n",
              "      <td>NaN</td>\n",
              "      <td>NaN</td>\n",
              "      <td>NaN</td>\n",
              "      <td>NaN</td>\n",
              "      <td>NaN</td>\n",
              "      <td>0.0</td>\n",
              "      <td>0</td>\n",
              "      <td>NaN</td>\n",
              "      <td>NaN</td>\n",
              "      <td>NaN</td>\n",
              "      <td>NaN</td>\n",
              "      <td>NaN</td>\n",
              "      <td>NaN</td>\n",
              "      <td>NaN</td>\n",
              "      <td>NaN</td>\n",
              "      <td>NaN</td>\n",
              "      <td>NaN</td>\n",
              "      <td>NaN</td>\n",
              "      <td>NaN</td>\n",
              "      <td>NaN</td>\n",
              "      <td>NaN</td>\n",
              "      <td>NaN</td>\n",
              "      <td>NaN</td>\n",
              "      <td>NaN</td>\n",
              "      <td>NaN</td>\n",
              "      <td>NaN</td>\n",
              "      <td>NaN</td>\n",
              "      <td>NaN</td>\n",
              "      <td>NaN</td>\n",
              "      <td>NaN</td>\n",
              "      <td>NaN</td>\n",
              "      <td>NaN</td>\n",
              "      <td>0.0</td>\n",
              "      <td>0.0</td>\n",
              "      <td>NaN</td>\n",
              "      <td>NaN</td>\n",
              "      <td>NaN</td>\n",
              "      <td>NaN</td>\n",
              "    </tr>\n",
              "    <tr>\n",
              "      <th>2</th>\n",
              "      <td>1077175</td>\n",
              "      <td>1313524</td>\n",
              "      <td>2400</td>\n",
              "      <td>2400</td>\n",
              "      <td>2400.0</td>\n",
              "      <td>36 months</td>\n",
              "      <td>15.96%</td>\n",
              "      <td>84.33</td>\n",
              "      <td>C</td>\n",
              "      <td>C5</td>\n",
              "      <td>NaN</td>\n",
              "      <td>10+ years</td>\n",
              "      <td>RENT</td>\n",
              "      <td>12252.0</td>\n",
              "      <td>Not Verified</td>\n",
              "      <td>Dec-11</td>\n",
              "      <td>Fully Paid</td>\n",
              "      <td>n</td>\n",
              "      <td>https://lendingclub.com/browse/loanDetail.acti...</td>\n",
              "      <td>NaN</td>\n",
              "      <td>small_business</td>\n",
              "      <td>real estate business</td>\n",
              "      <td>606xx</td>\n",
              "      <td>IL</td>\n",
              "      <td>8.72</td>\n",
              "      <td>0</td>\n",
              "      <td>Nov-01</td>\n",
              "      <td>2</td>\n",
              "      <td>NaN</td>\n",
              "      <td>NaN</td>\n",
              "      <td>2</td>\n",
              "      <td>0</td>\n",
              "      <td>2956</td>\n",
              "      <td>98.50%</td>\n",
              "      <td>10</td>\n",
              "      <td>f</td>\n",
              "      <td>0.00</td>\n",
              "      <td>0.00</td>\n",
              "      <td>3005.666844</td>\n",
              "      <td>3005.67</td>\n",
              "      <td>...</td>\n",
              "      <td>NaN</td>\n",
              "      <td>NaN</td>\n",
              "      <td>NaN</td>\n",
              "      <td>NaN</td>\n",
              "      <td>NaN</td>\n",
              "      <td>NaN</td>\n",
              "      <td>NaN</td>\n",
              "      <td>0.0</td>\n",
              "      <td>0</td>\n",
              "      <td>NaN</td>\n",
              "      <td>NaN</td>\n",
              "      <td>NaN</td>\n",
              "      <td>NaN</td>\n",
              "      <td>NaN</td>\n",
              "      <td>NaN</td>\n",
              "      <td>NaN</td>\n",
              "      <td>NaN</td>\n",
              "      <td>NaN</td>\n",
              "      <td>NaN</td>\n",
              "      <td>NaN</td>\n",
              "      <td>NaN</td>\n",
              "      <td>NaN</td>\n",
              "      <td>NaN</td>\n",
              "      <td>NaN</td>\n",
              "      <td>NaN</td>\n",
              "      <td>NaN</td>\n",
              "      <td>NaN</td>\n",
              "      <td>NaN</td>\n",
              "      <td>NaN</td>\n",
              "      <td>NaN</td>\n",
              "      <td>NaN</td>\n",
              "      <td>NaN</td>\n",
              "      <td>NaN</td>\n",
              "      <td>NaN</td>\n",
              "      <td>0.0</td>\n",
              "      <td>0.0</td>\n",
              "      <td>NaN</td>\n",
              "      <td>NaN</td>\n",
              "      <td>NaN</td>\n",
              "      <td>NaN</td>\n",
              "    </tr>\n",
              "    <tr>\n",
              "      <th>3</th>\n",
              "      <td>1076863</td>\n",
              "      <td>1277178</td>\n",
              "      <td>10000</td>\n",
              "      <td>10000</td>\n",
              "      <td>10000.0</td>\n",
              "      <td>36 months</td>\n",
              "      <td>13.49%</td>\n",
              "      <td>339.31</td>\n",
              "      <td>C</td>\n",
              "      <td>C1</td>\n",
              "      <td>AIR RESOURCES BOARD</td>\n",
              "      <td>10+ years</td>\n",
              "      <td>RENT</td>\n",
              "      <td>49200.0</td>\n",
              "      <td>Source Verified</td>\n",
              "      <td>Dec-11</td>\n",
              "      <td>Fully Paid</td>\n",
              "      <td>n</td>\n",
              "      <td>https://lendingclub.com/browse/loanDetail.acti...</td>\n",
              "      <td>Borrower added on 12/21/11 &gt; to pay for prop...</td>\n",
              "      <td>other</td>\n",
              "      <td>personel</td>\n",
              "      <td>917xx</td>\n",
              "      <td>CA</td>\n",
              "      <td>20.00</td>\n",
              "      <td>0</td>\n",
              "      <td>Feb-96</td>\n",
              "      <td>1</td>\n",
              "      <td>35.0</td>\n",
              "      <td>NaN</td>\n",
              "      <td>10</td>\n",
              "      <td>0</td>\n",
              "      <td>5598</td>\n",
              "      <td>21%</td>\n",
              "      <td>37</td>\n",
              "      <td>f</td>\n",
              "      <td>0.00</td>\n",
              "      <td>0.00</td>\n",
              "      <td>12231.890000</td>\n",
              "      <td>12231.89</td>\n",
              "      <td>...</td>\n",
              "      <td>NaN</td>\n",
              "      <td>NaN</td>\n",
              "      <td>NaN</td>\n",
              "      <td>NaN</td>\n",
              "      <td>NaN</td>\n",
              "      <td>NaN</td>\n",
              "      <td>NaN</td>\n",
              "      <td>0.0</td>\n",
              "      <td>0</td>\n",
              "      <td>NaN</td>\n",
              "      <td>NaN</td>\n",
              "      <td>NaN</td>\n",
              "      <td>NaN</td>\n",
              "      <td>NaN</td>\n",
              "      <td>NaN</td>\n",
              "      <td>NaN</td>\n",
              "      <td>NaN</td>\n",
              "      <td>NaN</td>\n",
              "      <td>NaN</td>\n",
              "      <td>NaN</td>\n",
              "      <td>NaN</td>\n",
              "      <td>NaN</td>\n",
              "      <td>NaN</td>\n",
              "      <td>NaN</td>\n",
              "      <td>NaN</td>\n",
              "      <td>NaN</td>\n",
              "      <td>NaN</td>\n",
              "      <td>NaN</td>\n",
              "      <td>NaN</td>\n",
              "      <td>NaN</td>\n",
              "      <td>NaN</td>\n",
              "      <td>NaN</td>\n",
              "      <td>NaN</td>\n",
              "      <td>NaN</td>\n",
              "      <td>0.0</td>\n",
              "      <td>0.0</td>\n",
              "      <td>NaN</td>\n",
              "      <td>NaN</td>\n",
              "      <td>NaN</td>\n",
              "      <td>NaN</td>\n",
              "    </tr>\n",
              "    <tr>\n",
              "      <th>4</th>\n",
              "      <td>1075358</td>\n",
              "      <td>1311748</td>\n",
              "      <td>3000</td>\n",
              "      <td>3000</td>\n",
              "      <td>3000.0</td>\n",
              "      <td>60 months</td>\n",
              "      <td>12.69%</td>\n",
              "      <td>67.79</td>\n",
              "      <td>B</td>\n",
              "      <td>B5</td>\n",
              "      <td>University Medical Group</td>\n",
              "      <td>1 year</td>\n",
              "      <td>RENT</td>\n",
              "      <td>80000.0</td>\n",
              "      <td>Source Verified</td>\n",
              "      <td>Dec-11</td>\n",
              "      <td>Current</td>\n",
              "      <td>n</td>\n",
              "      <td>https://lendingclub.com/browse/loanDetail.acti...</td>\n",
              "      <td>Borrower added on 12/21/11 &gt; I plan on combi...</td>\n",
              "      <td>other</td>\n",
              "      <td>Personal</td>\n",
              "      <td>972xx</td>\n",
              "      <td>OR</td>\n",
              "      <td>17.94</td>\n",
              "      <td>0</td>\n",
              "      <td>Jan-96</td>\n",
              "      <td>0</td>\n",
              "      <td>38.0</td>\n",
              "      <td>NaN</td>\n",
              "      <td>15</td>\n",
              "      <td>0</td>\n",
              "      <td>27783</td>\n",
              "      <td>53.90%</td>\n",
              "      <td>38</td>\n",
              "      <td>f</td>\n",
              "      <td>524.06</td>\n",
              "      <td>524.06</td>\n",
              "      <td>3513.330000</td>\n",
              "      <td>3513.33</td>\n",
              "      <td>...</td>\n",
              "      <td>NaN</td>\n",
              "      <td>NaN</td>\n",
              "      <td>NaN</td>\n",
              "      <td>NaN</td>\n",
              "      <td>NaN</td>\n",
              "      <td>NaN</td>\n",
              "      <td>NaN</td>\n",
              "      <td>0.0</td>\n",
              "      <td>0</td>\n",
              "      <td>NaN</td>\n",
              "      <td>NaN</td>\n",
              "      <td>NaN</td>\n",
              "      <td>NaN</td>\n",
              "      <td>NaN</td>\n",
              "      <td>NaN</td>\n",
              "      <td>NaN</td>\n",
              "      <td>NaN</td>\n",
              "      <td>NaN</td>\n",
              "      <td>NaN</td>\n",
              "      <td>NaN</td>\n",
              "      <td>NaN</td>\n",
              "      <td>NaN</td>\n",
              "      <td>NaN</td>\n",
              "      <td>NaN</td>\n",
              "      <td>NaN</td>\n",
              "      <td>NaN</td>\n",
              "      <td>NaN</td>\n",
              "      <td>NaN</td>\n",
              "      <td>NaN</td>\n",
              "      <td>NaN</td>\n",
              "      <td>NaN</td>\n",
              "      <td>NaN</td>\n",
              "      <td>NaN</td>\n",
              "      <td>NaN</td>\n",
              "      <td>0.0</td>\n",
              "      <td>0.0</td>\n",
              "      <td>NaN</td>\n",
              "      <td>NaN</td>\n",
              "      <td>NaN</td>\n",
              "      <td>NaN</td>\n",
              "    </tr>\n",
              "  </tbody>\n",
              "</table>\n",
              "<p>5 rows × 111 columns</p>\n",
              "</div>"
            ],
            "text/plain": [
              "        id  member_id  ...  total_bc_limit  total_il_high_credit_limit\n",
              "0  1077501    1296599  ...             NaN                         NaN\n",
              "1  1077430    1314167  ...             NaN                         NaN\n",
              "2  1077175    1313524  ...             NaN                         NaN\n",
              "3  1076863    1277178  ...             NaN                         NaN\n",
              "4  1075358    1311748  ...             NaN                         NaN\n",
              "\n",
              "[5 rows x 111 columns]"
            ]
          },
          "metadata": {
            "tags": []
          },
          "execution_count": 4
        }
      ]
    },
    {
      "cell_type": "code",
      "metadata": {
        "id": "FPb_uBuP0hch",
        "colab_type": "code",
        "outputId": "241eef94-4c7f-4fd2-91e3-491deeda7a30",
        "colab": {
          "base_uri": "https://localhost:8080/",
          "height": 108
        }
      },
      "source": [
        "df.info()"
      ],
      "execution_count": 5,
      "outputs": [
        {
          "output_type": "stream",
          "text": [
            "<class 'pandas.core.frame.DataFrame'>\n",
            "RangeIndex: 39717 entries, 0 to 39716\n",
            "Columns: 111 entries, id to total_il_high_credit_limit\n",
            "dtypes: float64(74), int64(13), object(24)\n",
            "memory usage: 33.6+ MB\n"
          ],
          "name": "stdout"
        }
      ]
    },
    {
      "cell_type": "code",
      "metadata": {
        "id": "GwAW_heJ0hcv",
        "colab_type": "code",
        "outputId": "4e3610e5-b3f9-4dd1-980b-9d034f50141c",
        "colab": {
          "base_uri": "https://localhost:8080/",
          "height": 337
        }
      },
      "source": [
        "df.describe()"
      ],
      "execution_count": 6,
      "outputs": [
        {
          "output_type": "execute_result",
          "data": {
            "text/html": [
              "<div>\n",
              "<style scoped>\n",
              "    .dataframe tbody tr th:only-of-type {\n",
              "        vertical-align: middle;\n",
              "    }\n",
              "\n",
              "    .dataframe tbody tr th {\n",
              "        vertical-align: top;\n",
              "    }\n",
              "\n",
              "    .dataframe thead th {\n",
              "        text-align: right;\n",
              "    }\n",
              "</style>\n",
              "<table border=\"1\" class=\"dataframe\">\n",
              "  <thead>\n",
              "    <tr style=\"text-align: right;\">\n",
              "      <th></th>\n",
              "      <th>id</th>\n",
              "      <th>member_id</th>\n",
              "      <th>loan_amnt</th>\n",
              "      <th>funded_amnt</th>\n",
              "      <th>funded_amnt_inv</th>\n",
              "      <th>installment</th>\n",
              "      <th>annual_inc</th>\n",
              "      <th>dti</th>\n",
              "      <th>delinq_2yrs</th>\n",
              "      <th>inq_last_6mths</th>\n",
              "      <th>mths_since_last_delinq</th>\n",
              "      <th>mths_since_last_record</th>\n",
              "      <th>open_acc</th>\n",
              "      <th>pub_rec</th>\n",
              "      <th>revol_bal</th>\n",
              "      <th>total_acc</th>\n",
              "      <th>out_prncp</th>\n",
              "      <th>out_prncp_inv</th>\n",
              "      <th>total_pymnt</th>\n",
              "      <th>total_pymnt_inv</th>\n",
              "      <th>total_rec_prncp</th>\n",
              "      <th>total_rec_int</th>\n",
              "      <th>total_rec_late_fee</th>\n",
              "      <th>recoveries</th>\n",
              "      <th>collection_recovery_fee</th>\n",
              "      <th>last_pymnt_amnt</th>\n",
              "      <th>collections_12_mths_ex_med</th>\n",
              "      <th>mths_since_last_major_derog</th>\n",
              "      <th>policy_code</th>\n",
              "      <th>annual_inc_joint</th>\n",
              "      <th>dti_joint</th>\n",
              "      <th>verification_status_joint</th>\n",
              "      <th>acc_now_delinq</th>\n",
              "      <th>tot_coll_amt</th>\n",
              "      <th>tot_cur_bal</th>\n",
              "      <th>open_acc_6m</th>\n",
              "      <th>open_il_6m</th>\n",
              "      <th>open_il_12m</th>\n",
              "      <th>open_il_24m</th>\n",
              "      <th>mths_since_rcnt_il</th>\n",
              "      <th>...</th>\n",
              "      <th>inq_fi</th>\n",
              "      <th>total_cu_tl</th>\n",
              "      <th>inq_last_12m</th>\n",
              "      <th>acc_open_past_24mths</th>\n",
              "      <th>avg_cur_bal</th>\n",
              "      <th>bc_open_to_buy</th>\n",
              "      <th>bc_util</th>\n",
              "      <th>chargeoff_within_12_mths</th>\n",
              "      <th>delinq_amnt</th>\n",
              "      <th>mo_sin_old_il_acct</th>\n",
              "      <th>mo_sin_old_rev_tl_op</th>\n",
              "      <th>mo_sin_rcnt_rev_tl_op</th>\n",
              "      <th>mo_sin_rcnt_tl</th>\n",
              "      <th>mort_acc</th>\n",
              "      <th>mths_since_recent_bc</th>\n",
              "      <th>mths_since_recent_bc_dlq</th>\n",
              "      <th>mths_since_recent_inq</th>\n",
              "      <th>mths_since_recent_revol_delinq</th>\n",
              "      <th>num_accts_ever_120_pd</th>\n",
              "      <th>num_actv_bc_tl</th>\n",
              "      <th>num_actv_rev_tl</th>\n",
              "      <th>num_bc_sats</th>\n",
              "      <th>num_bc_tl</th>\n",
              "      <th>num_il_tl</th>\n",
              "      <th>num_op_rev_tl</th>\n",
              "      <th>num_rev_accts</th>\n",
              "      <th>num_rev_tl_bal_gt_0</th>\n",
              "      <th>num_sats</th>\n",
              "      <th>num_tl_120dpd_2m</th>\n",
              "      <th>num_tl_30dpd</th>\n",
              "      <th>num_tl_90g_dpd_24m</th>\n",
              "      <th>num_tl_op_past_12m</th>\n",
              "      <th>pct_tl_nvr_dlq</th>\n",
              "      <th>percent_bc_gt_75</th>\n",
              "      <th>pub_rec_bankruptcies</th>\n",
              "      <th>tax_liens</th>\n",
              "      <th>tot_hi_cred_lim</th>\n",
              "      <th>total_bal_ex_mort</th>\n",
              "      <th>total_bc_limit</th>\n",
              "      <th>total_il_high_credit_limit</th>\n",
              "    </tr>\n",
              "  </thead>\n",
              "  <tbody>\n",
              "    <tr>\n",
              "      <th>count</th>\n",
              "      <td>3.971700e+04</td>\n",
              "      <td>3.971700e+04</td>\n",
              "      <td>39717.000000</td>\n",
              "      <td>39717.000000</td>\n",
              "      <td>39717.000000</td>\n",
              "      <td>39717.000000</td>\n",
              "      <td>3.971700e+04</td>\n",
              "      <td>39717.000000</td>\n",
              "      <td>39717.000000</td>\n",
              "      <td>39717.000000</td>\n",
              "      <td>14035.000000</td>\n",
              "      <td>2786.000000</td>\n",
              "      <td>39717.000000</td>\n",
              "      <td>39717.000000</td>\n",
              "      <td>39717.000000</td>\n",
              "      <td>39717.000000</td>\n",
              "      <td>39717.000000</td>\n",
              "      <td>39717.000000</td>\n",
              "      <td>39717.000000</td>\n",
              "      <td>39717.000000</td>\n",
              "      <td>39717.000000</td>\n",
              "      <td>39717.000000</td>\n",
              "      <td>39717.000000</td>\n",
              "      <td>39717.000000</td>\n",
              "      <td>39717.000000</td>\n",
              "      <td>39717.000000</td>\n",
              "      <td>39661.0</td>\n",
              "      <td>0.0</td>\n",
              "      <td>39717.0</td>\n",
              "      <td>0.0</td>\n",
              "      <td>0.0</td>\n",
              "      <td>0.0</td>\n",
              "      <td>39717.0</td>\n",
              "      <td>0.0</td>\n",
              "      <td>0.0</td>\n",
              "      <td>0.0</td>\n",
              "      <td>0.0</td>\n",
              "      <td>0.0</td>\n",
              "      <td>0.0</td>\n",
              "      <td>0.0</td>\n",
              "      <td>...</td>\n",
              "      <td>0.0</td>\n",
              "      <td>0.0</td>\n",
              "      <td>0.0</td>\n",
              "      <td>0.0</td>\n",
              "      <td>0.0</td>\n",
              "      <td>0.0</td>\n",
              "      <td>0.0</td>\n",
              "      <td>39661.0</td>\n",
              "      <td>39717.0</td>\n",
              "      <td>0.0</td>\n",
              "      <td>0.0</td>\n",
              "      <td>0.0</td>\n",
              "      <td>0.0</td>\n",
              "      <td>0.0</td>\n",
              "      <td>0.0</td>\n",
              "      <td>0.0</td>\n",
              "      <td>0.0</td>\n",
              "      <td>0.0</td>\n",
              "      <td>0.0</td>\n",
              "      <td>0.0</td>\n",
              "      <td>0.0</td>\n",
              "      <td>0.0</td>\n",
              "      <td>0.0</td>\n",
              "      <td>0.0</td>\n",
              "      <td>0.0</td>\n",
              "      <td>0.0</td>\n",
              "      <td>0.0</td>\n",
              "      <td>0.0</td>\n",
              "      <td>0.0</td>\n",
              "      <td>0.0</td>\n",
              "      <td>0.0</td>\n",
              "      <td>0.0</td>\n",
              "      <td>0.0</td>\n",
              "      <td>0.0</td>\n",
              "      <td>39020.000000</td>\n",
              "      <td>39678.0</td>\n",
              "      <td>0.0</td>\n",
              "      <td>0.0</td>\n",
              "      <td>0.0</td>\n",
              "      <td>0.0</td>\n",
              "    </tr>\n",
              "    <tr>\n",
              "      <th>mean</th>\n",
              "      <td>6.831319e+05</td>\n",
              "      <td>8.504636e+05</td>\n",
              "      <td>11219.443815</td>\n",
              "      <td>10947.713196</td>\n",
              "      <td>10397.448868</td>\n",
              "      <td>324.561922</td>\n",
              "      <td>6.896893e+04</td>\n",
              "      <td>13.315130</td>\n",
              "      <td>0.146512</td>\n",
              "      <td>0.869200</td>\n",
              "      <td>35.900962</td>\n",
              "      <td>69.698134</td>\n",
              "      <td>9.294408</td>\n",
              "      <td>0.055065</td>\n",
              "      <td>13382.528086</td>\n",
              "      <td>22.088828</td>\n",
              "      <td>51.227887</td>\n",
              "      <td>50.989768</td>\n",
              "      <td>12153.596544</td>\n",
              "      <td>11567.149118</td>\n",
              "      <td>9793.348813</td>\n",
              "      <td>2263.663172</td>\n",
              "      <td>1.363015</td>\n",
              "      <td>95.221624</td>\n",
              "      <td>12.406112</td>\n",
              "      <td>2678.826162</td>\n",
              "      <td>0.0</td>\n",
              "      <td>NaN</td>\n",
              "      <td>1.0</td>\n",
              "      <td>NaN</td>\n",
              "      <td>NaN</td>\n",
              "      <td>NaN</td>\n",
              "      <td>0.0</td>\n",
              "      <td>NaN</td>\n",
              "      <td>NaN</td>\n",
              "      <td>NaN</td>\n",
              "      <td>NaN</td>\n",
              "      <td>NaN</td>\n",
              "      <td>NaN</td>\n",
              "      <td>NaN</td>\n",
              "      <td>...</td>\n",
              "      <td>NaN</td>\n",
              "      <td>NaN</td>\n",
              "      <td>NaN</td>\n",
              "      <td>NaN</td>\n",
              "      <td>NaN</td>\n",
              "      <td>NaN</td>\n",
              "      <td>NaN</td>\n",
              "      <td>0.0</td>\n",
              "      <td>0.0</td>\n",
              "      <td>NaN</td>\n",
              "      <td>NaN</td>\n",
              "      <td>NaN</td>\n",
              "      <td>NaN</td>\n",
              "      <td>NaN</td>\n",
              "      <td>NaN</td>\n",
              "      <td>NaN</td>\n",
              "      <td>NaN</td>\n",
              "      <td>NaN</td>\n",
              "      <td>NaN</td>\n",
              "      <td>NaN</td>\n",
              "      <td>NaN</td>\n",
              "      <td>NaN</td>\n",
              "      <td>NaN</td>\n",
              "      <td>NaN</td>\n",
              "      <td>NaN</td>\n",
              "      <td>NaN</td>\n",
              "      <td>NaN</td>\n",
              "      <td>NaN</td>\n",
              "      <td>NaN</td>\n",
              "      <td>NaN</td>\n",
              "      <td>NaN</td>\n",
              "      <td>NaN</td>\n",
              "      <td>NaN</td>\n",
              "      <td>NaN</td>\n",
              "      <td>0.043260</td>\n",
              "      <td>0.0</td>\n",
              "      <td>NaN</td>\n",
              "      <td>NaN</td>\n",
              "      <td>NaN</td>\n",
              "      <td>NaN</td>\n",
              "    </tr>\n",
              "    <tr>\n",
              "      <th>std</th>\n",
              "      <td>2.106941e+05</td>\n",
              "      <td>2.656783e+05</td>\n",
              "      <td>7456.670694</td>\n",
              "      <td>7187.238670</td>\n",
              "      <td>7128.450439</td>\n",
              "      <td>208.874874</td>\n",
              "      <td>6.379377e+04</td>\n",
              "      <td>6.678594</td>\n",
              "      <td>0.491812</td>\n",
              "      <td>1.070219</td>\n",
              "      <td>22.020060</td>\n",
              "      <td>43.822529</td>\n",
              "      <td>4.400282</td>\n",
              "      <td>0.237200</td>\n",
              "      <td>15885.016641</td>\n",
              "      <td>11.401709</td>\n",
              "      <td>375.172839</td>\n",
              "      <td>373.824457</td>\n",
              "      <td>9042.040766</td>\n",
              "      <td>8942.672613</td>\n",
              "      <td>7065.522127</td>\n",
              "      <td>2608.111964</td>\n",
              "      <td>7.289979</td>\n",
              "      <td>688.744771</td>\n",
              "      <td>148.671593</td>\n",
              "      <td>4447.136012</td>\n",
              "      <td>0.0</td>\n",
              "      <td>NaN</td>\n",
              "      <td>0.0</td>\n",
              "      <td>NaN</td>\n",
              "      <td>NaN</td>\n",
              "      <td>NaN</td>\n",
              "      <td>0.0</td>\n",
              "      <td>NaN</td>\n",
              "      <td>NaN</td>\n",
              "      <td>NaN</td>\n",
              "      <td>NaN</td>\n",
              "      <td>NaN</td>\n",
              "      <td>NaN</td>\n",
              "      <td>NaN</td>\n",
              "      <td>...</td>\n",
              "      <td>NaN</td>\n",
              "      <td>NaN</td>\n",
              "      <td>NaN</td>\n",
              "      <td>NaN</td>\n",
              "      <td>NaN</td>\n",
              "      <td>NaN</td>\n",
              "      <td>NaN</td>\n",
              "      <td>0.0</td>\n",
              "      <td>0.0</td>\n",
              "      <td>NaN</td>\n",
              "      <td>NaN</td>\n",
              "      <td>NaN</td>\n",
              "      <td>NaN</td>\n",
              "      <td>NaN</td>\n",
              "      <td>NaN</td>\n",
              "      <td>NaN</td>\n",
              "      <td>NaN</td>\n",
              "      <td>NaN</td>\n",
              "      <td>NaN</td>\n",
              "      <td>NaN</td>\n",
              "      <td>NaN</td>\n",
              "      <td>NaN</td>\n",
              "      <td>NaN</td>\n",
              "      <td>NaN</td>\n",
              "      <td>NaN</td>\n",
              "      <td>NaN</td>\n",
              "      <td>NaN</td>\n",
              "      <td>NaN</td>\n",
              "      <td>NaN</td>\n",
              "      <td>NaN</td>\n",
              "      <td>NaN</td>\n",
              "      <td>NaN</td>\n",
              "      <td>NaN</td>\n",
              "      <td>NaN</td>\n",
              "      <td>0.204324</td>\n",
              "      <td>0.0</td>\n",
              "      <td>NaN</td>\n",
              "      <td>NaN</td>\n",
              "      <td>NaN</td>\n",
              "      <td>NaN</td>\n",
              "    </tr>\n",
              "    <tr>\n",
              "      <th>min</th>\n",
              "      <td>5.473400e+04</td>\n",
              "      <td>7.069900e+04</td>\n",
              "      <td>500.000000</td>\n",
              "      <td>500.000000</td>\n",
              "      <td>0.000000</td>\n",
              "      <td>15.690000</td>\n",
              "      <td>4.000000e+03</td>\n",
              "      <td>0.000000</td>\n",
              "      <td>0.000000</td>\n",
              "      <td>0.000000</td>\n",
              "      <td>0.000000</td>\n",
              "      <td>0.000000</td>\n",
              "      <td>2.000000</td>\n",
              "      <td>0.000000</td>\n",
              "      <td>0.000000</td>\n",
              "      <td>2.000000</td>\n",
              "      <td>0.000000</td>\n",
              "      <td>0.000000</td>\n",
              "      <td>0.000000</td>\n",
              "      <td>0.000000</td>\n",
              "      <td>0.000000</td>\n",
              "      <td>0.000000</td>\n",
              "      <td>0.000000</td>\n",
              "      <td>0.000000</td>\n",
              "      <td>0.000000</td>\n",
              "      <td>0.000000</td>\n",
              "      <td>0.0</td>\n",
              "      <td>NaN</td>\n",
              "      <td>1.0</td>\n",
              "      <td>NaN</td>\n",
              "      <td>NaN</td>\n",
              "      <td>NaN</td>\n",
              "      <td>0.0</td>\n",
              "      <td>NaN</td>\n",
              "      <td>NaN</td>\n",
              "      <td>NaN</td>\n",
              "      <td>NaN</td>\n",
              "      <td>NaN</td>\n",
              "      <td>NaN</td>\n",
              "      <td>NaN</td>\n",
              "      <td>...</td>\n",
              "      <td>NaN</td>\n",
              "      <td>NaN</td>\n",
              "      <td>NaN</td>\n",
              "      <td>NaN</td>\n",
              "      <td>NaN</td>\n",
              "      <td>NaN</td>\n",
              "      <td>NaN</td>\n",
              "      <td>0.0</td>\n",
              "      <td>0.0</td>\n",
              "      <td>NaN</td>\n",
              "      <td>NaN</td>\n",
              "      <td>NaN</td>\n",
              "      <td>NaN</td>\n",
              "      <td>NaN</td>\n",
              "      <td>NaN</td>\n",
              "      <td>NaN</td>\n",
              "      <td>NaN</td>\n",
              "      <td>NaN</td>\n",
              "      <td>NaN</td>\n",
              "      <td>NaN</td>\n",
              "      <td>NaN</td>\n",
              "      <td>NaN</td>\n",
              "      <td>NaN</td>\n",
              "      <td>NaN</td>\n",
              "      <td>NaN</td>\n",
              "      <td>NaN</td>\n",
              "      <td>NaN</td>\n",
              "      <td>NaN</td>\n",
              "      <td>NaN</td>\n",
              "      <td>NaN</td>\n",
              "      <td>NaN</td>\n",
              "      <td>NaN</td>\n",
              "      <td>NaN</td>\n",
              "      <td>NaN</td>\n",
              "      <td>0.000000</td>\n",
              "      <td>0.0</td>\n",
              "      <td>NaN</td>\n",
              "      <td>NaN</td>\n",
              "      <td>NaN</td>\n",
              "      <td>NaN</td>\n",
              "    </tr>\n",
              "    <tr>\n",
              "      <th>25%</th>\n",
              "      <td>5.162210e+05</td>\n",
              "      <td>6.667800e+05</td>\n",
              "      <td>5500.000000</td>\n",
              "      <td>5400.000000</td>\n",
              "      <td>5000.000000</td>\n",
              "      <td>167.020000</td>\n",
              "      <td>4.040400e+04</td>\n",
              "      <td>8.170000</td>\n",
              "      <td>0.000000</td>\n",
              "      <td>0.000000</td>\n",
              "      <td>18.000000</td>\n",
              "      <td>22.000000</td>\n",
              "      <td>6.000000</td>\n",
              "      <td>0.000000</td>\n",
              "      <td>3703.000000</td>\n",
              "      <td>13.000000</td>\n",
              "      <td>0.000000</td>\n",
              "      <td>0.000000</td>\n",
              "      <td>5576.930000</td>\n",
              "      <td>5112.310000</td>\n",
              "      <td>4600.000000</td>\n",
              "      <td>662.180000</td>\n",
              "      <td>0.000000</td>\n",
              "      <td>0.000000</td>\n",
              "      <td>0.000000</td>\n",
              "      <td>218.680000</td>\n",
              "      <td>0.0</td>\n",
              "      <td>NaN</td>\n",
              "      <td>1.0</td>\n",
              "      <td>NaN</td>\n",
              "      <td>NaN</td>\n",
              "      <td>NaN</td>\n",
              "      <td>0.0</td>\n",
              "      <td>NaN</td>\n",
              "      <td>NaN</td>\n",
              "      <td>NaN</td>\n",
              "      <td>NaN</td>\n",
              "      <td>NaN</td>\n",
              "      <td>NaN</td>\n",
              "      <td>NaN</td>\n",
              "      <td>...</td>\n",
              "      <td>NaN</td>\n",
              "      <td>NaN</td>\n",
              "      <td>NaN</td>\n",
              "      <td>NaN</td>\n",
              "      <td>NaN</td>\n",
              "      <td>NaN</td>\n",
              "      <td>NaN</td>\n",
              "      <td>0.0</td>\n",
              "      <td>0.0</td>\n",
              "      <td>NaN</td>\n",
              "      <td>NaN</td>\n",
              "      <td>NaN</td>\n",
              "      <td>NaN</td>\n",
              "      <td>NaN</td>\n",
              "      <td>NaN</td>\n",
              "      <td>NaN</td>\n",
              "      <td>NaN</td>\n",
              "      <td>NaN</td>\n",
              "      <td>NaN</td>\n",
              "      <td>NaN</td>\n",
              "      <td>NaN</td>\n",
              "      <td>NaN</td>\n",
              "      <td>NaN</td>\n",
              "      <td>NaN</td>\n",
              "      <td>NaN</td>\n",
              "      <td>NaN</td>\n",
              "      <td>NaN</td>\n",
              "      <td>NaN</td>\n",
              "      <td>NaN</td>\n",
              "      <td>NaN</td>\n",
              "      <td>NaN</td>\n",
              "      <td>NaN</td>\n",
              "      <td>NaN</td>\n",
              "      <td>NaN</td>\n",
              "      <td>0.000000</td>\n",
              "      <td>0.0</td>\n",
              "      <td>NaN</td>\n",
              "      <td>NaN</td>\n",
              "      <td>NaN</td>\n",
              "      <td>NaN</td>\n",
              "    </tr>\n",
              "    <tr>\n",
              "      <th>50%</th>\n",
              "      <td>6.656650e+05</td>\n",
              "      <td>8.508120e+05</td>\n",
              "      <td>10000.000000</td>\n",
              "      <td>9600.000000</td>\n",
              "      <td>8975.000000</td>\n",
              "      <td>280.220000</td>\n",
              "      <td>5.900000e+04</td>\n",
              "      <td>13.400000</td>\n",
              "      <td>0.000000</td>\n",
              "      <td>1.000000</td>\n",
              "      <td>34.000000</td>\n",
              "      <td>90.000000</td>\n",
              "      <td>9.000000</td>\n",
              "      <td>0.000000</td>\n",
              "      <td>8850.000000</td>\n",
              "      <td>20.000000</td>\n",
              "      <td>0.000000</td>\n",
              "      <td>0.000000</td>\n",
              "      <td>9899.640319</td>\n",
              "      <td>9287.150000</td>\n",
              "      <td>8000.000000</td>\n",
              "      <td>1348.910000</td>\n",
              "      <td>0.000000</td>\n",
              "      <td>0.000000</td>\n",
              "      <td>0.000000</td>\n",
              "      <td>546.140000</td>\n",
              "      <td>0.0</td>\n",
              "      <td>NaN</td>\n",
              "      <td>1.0</td>\n",
              "      <td>NaN</td>\n",
              "      <td>NaN</td>\n",
              "      <td>NaN</td>\n",
              "      <td>0.0</td>\n",
              "      <td>NaN</td>\n",
              "      <td>NaN</td>\n",
              "      <td>NaN</td>\n",
              "      <td>NaN</td>\n",
              "      <td>NaN</td>\n",
              "      <td>NaN</td>\n",
              "      <td>NaN</td>\n",
              "      <td>...</td>\n",
              "      <td>NaN</td>\n",
              "      <td>NaN</td>\n",
              "      <td>NaN</td>\n",
              "      <td>NaN</td>\n",
              "      <td>NaN</td>\n",
              "      <td>NaN</td>\n",
              "      <td>NaN</td>\n",
              "      <td>0.0</td>\n",
              "      <td>0.0</td>\n",
              "      <td>NaN</td>\n",
              "      <td>NaN</td>\n",
              "      <td>NaN</td>\n",
              "      <td>NaN</td>\n",
              "      <td>NaN</td>\n",
              "      <td>NaN</td>\n",
              "      <td>NaN</td>\n",
              "      <td>NaN</td>\n",
              "      <td>NaN</td>\n",
              "      <td>NaN</td>\n",
              "      <td>NaN</td>\n",
              "      <td>NaN</td>\n",
              "      <td>NaN</td>\n",
              "      <td>NaN</td>\n",
              "      <td>NaN</td>\n",
              "      <td>NaN</td>\n",
              "      <td>NaN</td>\n",
              "      <td>NaN</td>\n",
              "      <td>NaN</td>\n",
              "      <td>NaN</td>\n",
              "      <td>NaN</td>\n",
              "      <td>NaN</td>\n",
              "      <td>NaN</td>\n",
              "      <td>NaN</td>\n",
              "      <td>NaN</td>\n",
              "      <td>0.000000</td>\n",
              "      <td>0.0</td>\n",
              "      <td>NaN</td>\n",
              "      <td>NaN</td>\n",
              "      <td>NaN</td>\n",
              "      <td>NaN</td>\n",
              "    </tr>\n",
              "    <tr>\n",
              "      <th>75%</th>\n",
              "      <td>8.377550e+05</td>\n",
              "      <td>1.047339e+06</td>\n",
              "      <td>15000.000000</td>\n",
              "      <td>15000.000000</td>\n",
              "      <td>14400.000000</td>\n",
              "      <td>430.780000</td>\n",
              "      <td>8.230000e+04</td>\n",
              "      <td>18.600000</td>\n",
              "      <td>0.000000</td>\n",
              "      <td>1.000000</td>\n",
              "      <td>52.000000</td>\n",
              "      <td>104.000000</td>\n",
              "      <td>12.000000</td>\n",
              "      <td>0.000000</td>\n",
              "      <td>17058.000000</td>\n",
              "      <td>29.000000</td>\n",
              "      <td>0.000000</td>\n",
              "      <td>0.000000</td>\n",
              "      <td>16534.433040</td>\n",
              "      <td>15798.810000</td>\n",
              "      <td>13653.260000</td>\n",
              "      <td>2833.400000</td>\n",
              "      <td>0.000000</td>\n",
              "      <td>0.000000</td>\n",
              "      <td>0.000000</td>\n",
              "      <td>3293.160000</td>\n",
              "      <td>0.0</td>\n",
              "      <td>NaN</td>\n",
              "      <td>1.0</td>\n",
              "      <td>NaN</td>\n",
              "      <td>NaN</td>\n",
              "      <td>NaN</td>\n",
              "      <td>0.0</td>\n",
              "      <td>NaN</td>\n",
              "      <td>NaN</td>\n",
              "      <td>NaN</td>\n",
              "      <td>NaN</td>\n",
              "      <td>NaN</td>\n",
              "      <td>NaN</td>\n",
              "      <td>NaN</td>\n",
              "      <td>...</td>\n",
              "      <td>NaN</td>\n",
              "      <td>NaN</td>\n",
              "      <td>NaN</td>\n",
              "      <td>NaN</td>\n",
              "      <td>NaN</td>\n",
              "      <td>NaN</td>\n",
              "      <td>NaN</td>\n",
              "      <td>0.0</td>\n",
              "      <td>0.0</td>\n",
              "      <td>NaN</td>\n",
              "      <td>NaN</td>\n",
              "      <td>NaN</td>\n",
              "      <td>NaN</td>\n",
              "      <td>NaN</td>\n",
              "      <td>NaN</td>\n",
              "      <td>NaN</td>\n",
              "      <td>NaN</td>\n",
              "      <td>NaN</td>\n",
              "      <td>NaN</td>\n",
              "      <td>NaN</td>\n",
              "      <td>NaN</td>\n",
              "      <td>NaN</td>\n",
              "      <td>NaN</td>\n",
              "      <td>NaN</td>\n",
              "      <td>NaN</td>\n",
              "      <td>NaN</td>\n",
              "      <td>NaN</td>\n",
              "      <td>NaN</td>\n",
              "      <td>NaN</td>\n",
              "      <td>NaN</td>\n",
              "      <td>NaN</td>\n",
              "      <td>NaN</td>\n",
              "      <td>NaN</td>\n",
              "      <td>NaN</td>\n",
              "      <td>0.000000</td>\n",
              "      <td>0.0</td>\n",
              "      <td>NaN</td>\n",
              "      <td>NaN</td>\n",
              "      <td>NaN</td>\n",
              "      <td>NaN</td>\n",
              "    </tr>\n",
              "    <tr>\n",
              "      <th>max</th>\n",
              "      <td>1.077501e+06</td>\n",
              "      <td>1.314167e+06</td>\n",
              "      <td>35000.000000</td>\n",
              "      <td>35000.000000</td>\n",
              "      <td>35000.000000</td>\n",
              "      <td>1305.190000</td>\n",
              "      <td>6.000000e+06</td>\n",
              "      <td>29.990000</td>\n",
              "      <td>11.000000</td>\n",
              "      <td>8.000000</td>\n",
              "      <td>120.000000</td>\n",
              "      <td>129.000000</td>\n",
              "      <td>44.000000</td>\n",
              "      <td>4.000000</td>\n",
              "      <td>149588.000000</td>\n",
              "      <td>90.000000</td>\n",
              "      <td>6311.470000</td>\n",
              "      <td>6307.370000</td>\n",
              "      <td>58563.679930</td>\n",
              "      <td>58563.680000</td>\n",
              "      <td>35000.020000</td>\n",
              "      <td>23563.680000</td>\n",
              "      <td>180.200000</td>\n",
              "      <td>29623.350000</td>\n",
              "      <td>7002.190000</td>\n",
              "      <td>36115.200000</td>\n",
              "      <td>0.0</td>\n",
              "      <td>NaN</td>\n",
              "      <td>1.0</td>\n",
              "      <td>NaN</td>\n",
              "      <td>NaN</td>\n",
              "      <td>NaN</td>\n",
              "      <td>0.0</td>\n",
              "      <td>NaN</td>\n",
              "      <td>NaN</td>\n",
              "      <td>NaN</td>\n",
              "      <td>NaN</td>\n",
              "      <td>NaN</td>\n",
              "      <td>NaN</td>\n",
              "      <td>NaN</td>\n",
              "      <td>...</td>\n",
              "      <td>NaN</td>\n",
              "      <td>NaN</td>\n",
              "      <td>NaN</td>\n",
              "      <td>NaN</td>\n",
              "      <td>NaN</td>\n",
              "      <td>NaN</td>\n",
              "      <td>NaN</td>\n",
              "      <td>0.0</td>\n",
              "      <td>0.0</td>\n",
              "      <td>NaN</td>\n",
              "      <td>NaN</td>\n",
              "      <td>NaN</td>\n",
              "      <td>NaN</td>\n",
              "      <td>NaN</td>\n",
              "      <td>NaN</td>\n",
              "      <td>NaN</td>\n",
              "      <td>NaN</td>\n",
              "      <td>NaN</td>\n",
              "      <td>NaN</td>\n",
              "      <td>NaN</td>\n",
              "      <td>NaN</td>\n",
              "      <td>NaN</td>\n",
              "      <td>NaN</td>\n",
              "      <td>NaN</td>\n",
              "      <td>NaN</td>\n",
              "      <td>NaN</td>\n",
              "      <td>NaN</td>\n",
              "      <td>NaN</td>\n",
              "      <td>NaN</td>\n",
              "      <td>NaN</td>\n",
              "      <td>NaN</td>\n",
              "      <td>NaN</td>\n",
              "      <td>NaN</td>\n",
              "      <td>NaN</td>\n",
              "      <td>2.000000</td>\n",
              "      <td>0.0</td>\n",
              "      <td>NaN</td>\n",
              "      <td>NaN</td>\n",
              "      <td>NaN</td>\n",
              "      <td>NaN</td>\n",
              "    </tr>\n",
              "  </tbody>\n",
              "</table>\n",
              "<p>8 rows × 87 columns</p>\n",
              "</div>"
            ],
            "text/plain": [
              "                 id     member_id  ...  total_bc_limit  total_il_high_credit_limit\n",
              "count  3.971700e+04  3.971700e+04  ...             0.0                         0.0\n",
              "mean   6.831319e+05  8.504636e+05  ...             NaN                         NaN\n",
              "std    2.106941e+05  2.656783e+05  ...             NaN                         NaN\n",
              "min    5.473400e+04  7.069900e+04  ...             NaN                         NaN\n",
              "25%    5.162210e+05  6.667800e+05  ...             NaN                         NaN\n",
              "50%    6.656650e+05  8.508120e+05  ...             NaN                         NaN\n",
              "75%    8.377550e+05  1.047339e+06  ...             NaN                         NaN\n",
              "max    1.077501e+06  1.314167e+06  ...             NaN                         NaN\n",
              "\n",
              "[8 rows x 87 columns]"
            ]
          },
          "metadata": {
            "tags": []
          },
          "execution_count": 6
        }
      ]
    },
    {
      "cell_type": "markdown",
      "metadata": {
        "id": "lTorJLAC0hc5",
        "colab_type": "text"
      },
      "source": [
        "Total Rows -- 3917 /\n",
        "Total Columns -- 111"
      ]
    },
    {
      "cell_type": "markdown",
      "metadata": {
        "id": "1Q8i0J7B0hc7",
        "colab_type": "text"
      },
      "source": [
        "# Data Cleaning"
      ]
    },
    {
      "cell_type": "code",
      "metadata": {
        "id": "raNLGwtA0hc-",
        "colab_type": "code",
        "outputId": "10fb6560-629d-43fe-b9f5-f7ff8caa99eb",
        "colab": {
          "base_uri": "https://localhost:8080/",
          "height": 235
        }
      },
      "source": [
        "df.isnull().sum() # Count of null values per column"
      ],
      "execution_count": 7,
      "outputs": [
        {
          "output_type": "execute_result",
          "data": {
            "text/plain": [
              "id                                0\n",
              "member_id                         0\n",
              "loan_amnt                         0\n",
              "funded_amnt                       0\n",
              "funded_amnt_inv                   0\n",
              "                              ...  \n",
              "tax_liens                        39\n",
              "tot_hi_cred_lim               39717\n",
              "total_bal_ex_mort             39717\n",
              "total_bc_limit                39717\n",
              "total_il_high_credit_limit    39717\n",
              "Length: 111, dtype: int64"
            ]
          },
          "metadata": {
            "tags": []
          },
          "execution_count": 7
        }
      ]
    },
    {
      "cell_type": "code",
      "metadata": {
        "id": "1pWFSkd90hdH",
        "colab_type": "code",
        "outputId": "0ba7ee00-1598-42db-d920-64e6783219a9",
        "colab": {
          "base_uri": "https://localhost:8080/",
          "height": 35
        }
      },
      "source": [
        "len(df.columns[df.isnull().mean() >= 0.5]) # number of column with more than 50% empty values"
      ],
      "execution_count": 8,
      "outputs": [
        {
          "output_type": "execute_result",
          "data": {
            "text/plain": [
              "57"
            ]
          },
          "metadata": {
            "tags": []
          },
          "execution_count": 8
        }
      ]
    },
    {
      "cell_type": "code",
      "metadata": {
        "id": "1HvKYyTK0hdQ",
        "colab_type": "code",
        "colab": {}
      },
      "source": [
        "# Drop columns with upto 50% missing value\n",
        "cols = df.columns[df.isnull().mean() >= 0.5]\n",
        "df.drop(cols, axis=1, inplace=True)"
      ],
      "execution_count": 0,
      "outputs": []
    },
    {
      "cell_type": "code",
      "metadata": {
        "scrolled": true,
        "id": "WjLExa5e0hdZ",
        "colab_type": "code",
        "outputId": "06909c66-c6de-4bd6-c189-d8bdfdcb8a67",
        "colab": {
          "base_uri": "https://localhost:8080/",
          "height": 1000
        }
      },
      "source": [
        "df.info()"
      ],
      "execution_count": 10,
      "outputs": [
        {
          "output_type": "stream",
          "text": [
            "<class 'pandas.core.frame.DataFrame'>\n",
            "RangeIndex: 39717 entries, 0 to 39716\n",
            "Data columns (total 54 columns):\n",
            "id                            39717 non-null int64\n",
            "member_id                     39717 non-null int64\n",
            "loan_amnt                     39717 non-null int64\n",
            "funded_amnt                   39717 non-null int64\n",
            "funded_amnt_inv               39717 non-null float64\n",
            "term                          39717 non-null object\n",
            "int_rate                      39717 non-null object\n",
            "installment                   39717 non-null float64\n",
            "grade                         39717 non-null object\n",
            "sub_grade                     39717 non-null object\n",
            "emp_title                     37258 non-null object\n",
            "emp_length                    38642 non-null object\n",
            "home_ownership                39717 non-null object\n",
            "annual_inc                    39717 non-null float64\n",
            "verification_status           39717 non-null object\n",
            "issue_d                       39717 non-null object\n",
            "loan_status                   39717 non-null object\n",
            "pymnt_plan                    39717 non-null object\n",
            "url                           39717 non-null object\n",
            "desc                          26777 non-null object\n",
            "purpose                       39717 non-null object\n",
            "title                         39706 non-null object\n",
            "zip_code                      39717 non-null object\n",
            "addr_state                    39717 non-null object\n",
            "dti                           39717 non-null float64\n",
            "delinq_2yrs                   39717 non-null int64\n",
            "earliest_cr_line              39717 non-null object\n",
            "inq_last_6mths                39717 non-null int64\n",
            "open_acc                      39717 non-null int64\n",
            "pub_rec                       39717 non-null int64\n",
            "revol_bal                     39717 non-null int64\n",
            "revol_util                    39667 non-null object\n",
            "total_acc                     39717 non-null int64\n",
            "initial_list_status           39717 non-null object\n",
            "out_prncp                     39717 non-null float64\n",
            "out_prncp_inv                 39717 non-null float64\n",
            "total_pymnt                   39717 non-null float64\n",
            "total_pymnt_inv               39717 non-null float64\n",
            "total_rec_prncp               39717 non-null float64\n",
            "total_rec_int                 39717 non-null float64\n",
            "total_rec_late_fee            39717 non-null float64\n",
            "recoveries                    39717 non-null float64\n",
            "collection_recovery_fee       39717 non-null float64\n",
            "last_pymnt_d                  39646 non-null object\n",
            "last_pymnt_amnt               39717 non-null float64\n",
            "last_credit_pull_d            39715 non-null object\n",
            "collections_12_mths_ex_med    39661 non-null float64\n",
            "policy_code                   39717 non-null int64\n",
            "application_type              39717 non-null object\n",
            "acc_now_delinq                39717 non-null int64\n",
            "chargeoff_within_12_mths      39661 non-null float64\n",
            "delinq_amnt                   39717 non-null int64\n",
            "pub_rec_bankruptcies          39020 non-null float64\n",
            "tax_liens                     39678 non-null float64\n",
            "dtypes: float64(18), int64(13), object(23)\n",
            "memory usage: 16.4+ MB\n"
          ],
          "name": "stdout"
        }
      ]
    },
    {
      "cell_type": "markdown",
      "metadata": {
        "id": "b9nEDkVW0hdh",
        "colab_type": "text"
      },
      "source": [
        "Total row -- 3917\n",
        "  Total columns --54"
      ]
    },
    {
      "cell_type": "code",
      "metadata": {
        "scrolled": true,
        "id": "OF9H-Fi10hdk",
        "colab_type": "code",
        "outputId": "10ed37ba-2a71-4c78-e3e8-b89067506c71",
        "colab": {
          "base_uri": "https://localhost:8080/",
          "height": 963
        }
      },
      "source": [
        "df.dropna(thresh=df.shape[1]-10, axis=0)"
      ],
      "execution_count": 11,
      "outputs": [
        {
          "output_type": "execute_result",
          "data": {
            "text/html": [
              "<div>\n",
              "<style scoped>\n",
              "    .dataframe tbody tr th:only-of-type {\n",
              "        vertical-align: middle;\n",
              "    }\n",
              "\n",
              "    .dataframe tbody tr th {\n",
              "        vertical-align: top;\n",
              "    }\n",
              "\n",
              "    .dataframe thead th {\n",
              "        text-align: right;\n",
              "    }\n",
              "</style>\n",
              "<table border=\"1\" class=\"dataframe\">\n",
              "  <thead>\n",
              "    <tr style=\"text-align: right;\">\n",
              "      <th></th>\n",
              "      <th>id</th>\n",
              "      <th>member_id</th>\n",
              "      <th>loan_amnt</th>\n",
              "      <th>funded_amnt</th>\n",
              "      <th>funded_amnt_inv</th>\n",
              "      <th>term</th>\n",
              "      <th>int_rate</th>\n",
              "      <th>installment</th>\n",
              "      <th>grade</th>\n",
              "      <th>sub_grade</th>\n",
              "      <th>emp_title</th>\n",
              "      <th>emp_length</th>\n",
              "      <th>home_ownership</th>\n",
              "      <th>annual_inc</th>\n",
              "      <th>verification_status</th>\n",
              "      <th>issue_d</th>\n",
              "      <th>loan_status</th>\n",
              "      <th>pymnt_plan</th>\n",
              "      <th>url</th>\n",
              "      <th>desc</th>\n",
              "      <th>purpose</th>\n",
              "      <th>title</th>\n",
              "      <th>zip_code</th>\n",
              "      <th>addr_state</th>\n",
              "      <th>dti</th>\n",
              "      <th>delinq_2yrs</th>\n",
              "      <th>earliest_cr_line</th>\n",
              "      <th>inq_last_6mths</th>\n",
              "      <th>open_acc</th>\n",
              "      <th>pub_rec</th>\n",
              "      <th>revol_bal</th>\n",
              "      <th>revol_util</th>\n",
              "      <th>total_acc</th>\n",
              "      <th>initial_list_status</th>\n",
              "      <th>out_prncp</th>\n",
              "      <th>out_prncp_inv</th>\n",
              "      <th>total_pymnt</th>\n",
              "      <th>total_pymnt_inv</th>\n",
              "      <th>total_rec_prncp</th>\n",
              "      <th>total_rec_int</th>\n",
              "      <th>total_rec_late_fee</th>\n",
              "      <th>recoveries</th>\n",
              "      <th>collection_recovery_fee</th>\n",
              "      <th>last_pymnt_d</th>\n",
              "      <th>last_pymnt_amnt</th>\n",
              "      <th>last_credit_pull_d</th>\n",
              "      <th>collections_12_mths_ex_med</th>\n",
              "      <th>policy_code</th>\n",
              "      <th>application_type</th>\n",
              "      <th>acc_now_delinq</th>\n",
              "      <th>chargeoff_within_12_mths</th>\n",
              "      <th>delinq_amnt</th>\n",
              "      <th>pub_rec_bankruptcies</th>\n",
              "      <th>tax_liens</th>\n",
              "    </tr>\n",
              "  </thead>\n",
              "  <tbody>\n",
              "    <tr>\n",
              "      <th>0</th>\n",
              "      <td>1077501</td>\n",
              "      <td>1296599</td>\n",
              "      <td>5000</td>\n",
              "      <td>5000</td>\n",
              "      <td>4975.0</td>\n",
              "      <td>36 months</td>\n",
              "      <td>10.65%</td>\n",
              "      <td>162.87</td>\n",
              "      <td>B</td>\n",
              "      <td>B2</td>\n",
              "      <td>NaN</td>\n",
              "      <td>10+ years</td>\n",
              "      <td>RENT</td>\n",
              "      <td>24000.0</td>\n",
              "      <td>Verified</td>\n",
              "      <td>Dec-11</td>\n",
              "      <td>Fully Paid</td>\n",
              "      <td>n</td>\n",
              "      <td>https://lendingclub.com/browse/loanDetail.acti...</td>\n",
              "      <td>Borrower added on 12/22/11 &gt; I need to upgra...</td>\n",
              "      <td>credit_card</td>\n",
              "      <td>Computer</td>\n",
              "      <td>860xx</td>\n",
              "      <td>AZ</td>\n",
              "      <td>27.65</td>\n",
              "      <td>0</td>\n",
              "      <td>Jan-85</td>\n",
              "      <td>1</td>\n",
              "      <td>3</td>\n",
              "      <td>0</td>\n",
              "      <td>13648</td>\n",
              "      <td>83.70%</td>\n",
              "      <td>9</td>\n",
              "      <td>f</td>\n",
              "      <td>0.00</td>\n",
              "      <td>0.00</td>\n",
              "      <td>5863.155187</td>\n",
              "      <td>5833.84</td>\n",
              "      <td>5000.00</td>\n",
              "      <td>863.16</td>\n",
              "      <td>0.00</td>\n",
              "      <td>0.00</td>\n",
              "      <td>0.00</td>\n",
              "      <td>Jan-15</td>\n",
              "      <td>171.62</td>\n",
              "      <td>May-16</td>\n",
              "      <td>0.0</td>\n",
              "      <td>1</td>\n",
              "      <td>INDIVIDUAL</td>\n",
              "      <td>0</td>\n",
              "      <td>0.0</td>\n",
              "      <td>0</td>\n",
              "      <td>0.0</td>\n",
              "      <td>0.0</td>\n",
              "    </tr>\n",
              "    <tr>\n",
              "      <th>1</th>\n",
              "      <td>1077430</td>\n",
              "      <td>1314167</td>\n",
              "      <td>2500</td>\n",
              "      <td>2500</td>\n",
              "      <td>2500.0</td>\n",
              "      <td>60 months</td>\n",
              "      <td>15.27%</td>\n",
              "      <td>59.83</td>\n",
              "      <td>C</td>\n",
              "      <td>C4</td>\n",
              "      <td>Ryder</td>\n",
              "      <td>&lt; 1 year</td>\n",
              "      <td>RENT</td>\n",
              "      <td>30000.0</td>\n",
              "      <td>Source Verified</td>\n",
              "      <td>Dec-11</td>\n",
              "      <td>Charged Off</td>\n",
              "      <td>n</td>\n",
              "      <td>https://lendingclub.com/browse/loanDetail.acti...</td>\n",
              "      <td>Borrower added on 12/22/11 &gt; I plan to use t...</td>\n",
              "      <td>car</td>\n",
              "      <td>bike</td>\n",
              "      <td>309xx</td>\n",
              "      <td>GA</td>\n",
              "      <td>1.00</td>\n",
              "      <td>0</td>\n",
              "      <td>Apr-99</td>\n",
              "      <td>5</td>\n",
              "      <td>3</td>\n",
              "      <td>0</td>\n",
              "      <td>1687</td>\n",
              "      <td>9.40%</td>\n",
              "      <td>4</td>\n",
              "      <td>f</td>\n",
              "      <td>0.00</td>\n",
              "      <td>0.00</td>\n",
              "      <td>1008.710000</td>\n",
              "      <td>1008.71</td>\n",
              "      <td>456.46</td>\n",
              "      <td>435.17</td>\n",
              "      <td>0.00</td>\n",
              "      <td>117.08</td>\n",
              "      <td>1.11</td>\n",
              "      <td>Apr-13</td>\n",
              "      <td>119.66</td>\n",
              "      <td>Sep-13</td>\n",
              "      <td>0.0</td>\n",
              "      <td>1</td>\n",
              "      <td>INDIVIDUAL</td>\n",
              "      <td>0</td>\n",
              "      <td>0.0</td>\n",
              "      <td>0</td>\n",
              "      <td>0.0</td>\n",
              "      <td>0.0</td>\n",
              "    </tr>\n",
              "    <tr>\n",
              "      <th>2</th>\n",
              "      <td>1077175</td>\n",
              "      <td>1313524</td>\n",
              "      <td>2400</td>\n",
              "      <td>2400</td>\n",
              "      <td>2400.0</td>\n",
              "      <td>36 months</td>\n",
              "      <td>15.96%</td>\n",
              "      <td>84.33</td>\n",
              "      <td>C</td>\n",
              "      <td>C5</td>\n",
              "      <td>NaN</td>\n",
              "      <td>10+ years</td>\n",
              "      <td>RENT</td>\n",
              "      <td>12252.0</td>\n",
              "      <td>Not Verified</td>\n",
              "      <td>Dec-11</td>\n",
              "      <td>Fully Paid</td>\n",
              "      <td>n</td>\n",
              "      <td>https://lendingclub.com/browse/loanDetail.acti...</td>\n",
              "      <td>NaN</td>\n",
              "      <td>small_business</td>\n",
              "      <td>real estate business</td>\n",
              "      <td>606xx</td>\n",
              "      <td>IL</td>\n",
              "      <td>8.72</td>\n",
              "      <td>0</td>\n",
              "      <td>Nov-01</td>\n",
              "      <td>2</td>\n",
              "      <td>2</td>\n",
              "      <td>0</td>\n",
              "      <td>2956</td>\n",
              "      <td>98.50%</td>\n",
              "      <td>10</td>\n",
              "      <td>f</td>\n",
              "      <td>0.00</td>\n",
              "      <td>0.00</td>\n",
              "      <td>3005.666844</td>\n",
              "      <td>3005.67</td>\n",
              "      <td>2400.00</td>\n",
              "      <td>605.67</td>\n",
              "      <td>0.00</td>\n",
              "      <td>0.00</td>\n",
              "      <td>0.00</td>\n",
              "      <td>Jun-14</td>\n",
              "      <td>649.91</td>\n",
              "      <td>May-16</td>\n",
              "      <td>0.0</td>\n",
              "      <td>1</td>\n",
              "      <td>INDIVIDUAL</td>\n",
              "      <td>0</td>\n",
              "      <td>0.0</td>\n",
              "      <td>0</td>\n",
              "      <td>0.0</td>\n",
              "      <td>0.0</td>\n",
              "    </tr>\n",
              "    <tr>\n",
              "      <th>3</th>\n",
              "      <td>1076863</td>\n",
              "      <td>1277178</td>\n",
              "      <td>10000</td>\n",
              "      <td>10000</td>\n",
              "      <td>10000.0</td>\n",
              "      <td>36 months</td>\n",
              "      <td>13.49%</td>\n",
              "      <td>339.31</td>\n",
              "      <td>C</td>\n",
              "      <td>C1</td>\n",
              "      <td>AIR RESOURCES BOARD</td>\n",
              "      <td>10+ years</td>\n",
              "      <td>RENT</td>\n",
              "      <td>49200.0</td>\n",
              "      <td>Source Verified</td>\n",
              "      <td>Dec-11</td>\n",
              "      <td>Fully Paid</td>\n",
              "      <td>n</td>\n",
              "      <td>https://lendingclub.com/browse/loanDetail.acti...</td>\n",
              "      <td>Borrower added on 12/21/11 &gt; to pay for prop...</td>\n",
              "      <td>other</td>\n",
              "      <td>personel</td>\n",
              "      <td>917xx</td>\n",
              "      <td>CA</td>\n",
              "      <td>20.00</td>\n",
              "      <td>0</td>\n",
              "      <td>Feb-96</td>\n",
              "      <td>1</td>\n",
              "      <td>10</td>\n",
              "      <td>0</td>\n",
              "      <td>5598</td>\n",
              "      <td>21%</td>\n",
              "      <td>37</td>\n",
              "      <td>f</td>\n",
              "      <td>0.00</td>\n",
              "      <td>0.00</td>\n",
              "      <td>12231.890000</td>\n",
              "      <td>12231.89</td>\n",
              "      <td>10000.00</td>\n",
              "      <td>2214.92</td>\n",
              "      <td>16.97</td>\n",
              "      <td>0.00</td>\n",
              "      <td>0.00</td>\n",
              "      <td>Jan-15</td>\n",
              "      <td>357.48</td>\n",
              "      <td>Apr-16</td>\n",
              "      <td>0.0</td>\n",
              "      <td>1</td>\n",
              "      <td>INDIVIDUAL</td>\n",
              "      <td>0</td>\n",
              "      <td>0.0</td>\n",
              "      <td>0</td>\n",
              "      <td>0.0</td>\n",
              "      <td>0.0</td>\n",
              "    </tr>\n",
              "    <tr>\n",
              "      <th>4</th>\n",
              "      <td>1075358</td>\n",
              "      <td>1311748</td>\n",
              "      <td>3000</td>\n",
              "      <td>3000</td>\n",
              "      <td>3000.0</td>\n",
              "      <td>60 months</td>\n",
              "      <td>12.69%</td>\n",
              "      <td>67.79</td>\n",
              "      <td>B</td>\n",
              "      <td>B5</td>\n",
              "      <td>University Medical Group</td>\n",
              "      <td>1 year</td>\n",
              "      <td>RENT</td>\n",
              "      <td>80000.0</td>\n",
              "      <td>Source Verified</td>\n",
              "      <td>Dec-11</td>\n",
              "      <td>Current</td>\n",
              "      <td>n</td>\n",
              "      <td>https://lendingclub.com/browse/loanDetail.acti...</td>\n",
              "      <td>Borrower added on 12/21/11 &gt; I plan on combi...</td>\n",
              "      <td>other</td>\n",
              "      <td>Personal</td>\n",
              "      <td>972xx</td>\n",
              "      <td>OR</td>\n",
              "      <td>17.94</td>\n",
              "      <td>0</td>\n",
              "      <td>Jan-96</td>\n",
              "      <td>0</td>\n",
              "      <td>15</td>\n",
              "      <td>0</td>\n",
              "      <td>27783</td>\n",
              "      <td>53.90%</td>\n",
              "      <td>38</td>\n",
              "      <td>f</td>\n",
              "      <td>524.06</td>\n",
              "      <td>524.06</td>\n",
              "      <td>3513.330000</td>\n",
              "      <td>3513.33</td>\n",
              "      <td>2475.94</td>\n",
              "      <td>1037.39</td>\n",
              "      <td>0.00</td>\n",
              "      <td>0.00</td>\n",
              "      <td>0.00</td>\n",
              "      <td>May-16</td>\n",
              "      <td>67.79</td>\n",
              "      <td>May-16</td>\n",
              "      <td>0.0</td>\n",
              "      <td>1</td>\n",
              "      <td>INDIVIDUAL</td>\n",
              "      <td>0</td>\n",
              "      <td>0.0</td>\n",
              "      <td>0</td>\n",
              "      <td>0.0</td>\n",
              "      <td>0.0</td>\n",
              "    </tr>\n",
              "    <tr>\n",
              "      <th>...</th>\n",
              "      <td>...</td>\n",
              "      <td>...</td>\n",
              "      <td>...</td>\n",
              "      <td>...</td>\n",
              "      <td>...</td>\n",
              "      <td>...</td>\n",
              "      <td>...</td>\n",
              "      <td>...</td>\n",
              "      <td>...</td>\n",
              "      <td>...</td>\n",
              "      <td>...</td>\n",
              "      <td>...</td>\n",
              "      <td>...</td>\n",
              "      <td>...</td>\n",
              "      <td>...</td>\n",
              "      <td>...</td>\n",
              "      <td>...</td>\n",
              "      <td>...</td>\n",
              "      <td>...</td>\n",
              "      <td>...</td>\n",
              "      <td>...</td>\n",
              "      <td>...</td>\n",
              "      <td>...</td>\n",
              "      <td>...</td>\n",
              "      <td>...</td>\n",
              "      <td>...</td>\n",
              "      <td>...</td>\n",
              "      <td>...</td>\n",
              "      <td>...</td>\n",
              "      <td>...</td>\n",
              "      <td>...</td>\n",
              "      <td>...</td>\n",
              "      <td>...</td>\n",
              "      <td>...</td>\n",
              "      <td>...</td>\n",
              "      <td>...</td>\n",
              "      <td>...</td>\n",
              "      <td>...</td>\n",
              "      <td>...</td>\n",
              "      <td>...</td>\n",
              "      <td>...</td>\n",
              "      <td>...</td>\n",
              "      <td>...</td>\n",
              "      <td>...</td>\n",
              "      <td>...</td>\n",
              "      <td>...</td>\n",
              "      <td>...</td>\n",
              "      <td>...</td>\n",
              "      <td>...</td>\n",
              "      <td>...</td>\n",
              "      <td>...</td>\n",
              "      <td>...</td>\n",
              "      <td>...</td>\n",
              "      <td>...</td>\n",
              "    </tr>\n",
              "    <tr>\n",
              "      <th>39712</th>\n",
              "      <td>92187</td>\n",
              "      <td>92174</td>\n",
              "      <td>2500</td>\n",
              "      <td>2500</td>\n",
              "      <td>1075.0</td>\n",
              "      <td>36 months</td>\n",
              "      <td>8.07%</td>\n",
              "      <td>78.42</td>\n",
              "      <td>A</td>\n",
              "      <td>A4</td>\n",
              "      <td>FiSite Research</td>\n",
              "      <td>4 years</td>\n",
              "      <td>MORTGAGE</td>\n",
              "      <td>110000.0</td>\n",
              "      <td>Not Verified</td>\n",
              "      <td>Jul-07</td>\n",
              "      <td>Fully Paid</td>\n",
              "      <td>n</td>\n",
              "      <td>https://lendingclub.com/browse/loanDetail.acti...</td>\n",
              "      <td>Our current gutter system on our home is old a...</td>\n",
              "      <td>home_improvement</td>\n",
              "      <td>Home Improvement</td>\n",
              "      <td>802xx</td>\n",
              "      <td>CO</td>\n",
              "      <td>11.33</td>\n",
              "      <td>0</td>\n",
              "      <td>Nov-90</td>\n",
              "      <td>0</td>\n",
              "      <td>13</td>\n",
              "      <td>0</td>\n",
              "      <td>7274</td>\n",
              "      <td>13.10%</td>\n",
              "      <td>40</td>\n",
              "      <td>f</td>\n",
              "      <td>0.00</td>\n",
              "      <td>0.00</td>\n",
              "      <td>2822.969293</td>\n",
              "      <td>1213.88</td>\n",
              "      <td>2500.00</td>\n",
              "      <td>322.97</td>\n",
              "      <td>0.00</td>\n",
              "      <td>0.00</td>\n",
              "      <td>0.00</td>\n",
              "      <td>Jul-10</td>\n",
              "      <td>80.90</td>\n",
              "      <td>Jun-10</td>\n",
              "      <td>NaN</td>\n",
              "      <td>1</td>\n",
              "      <td>INDIVIDUAL</td>\n",
              "      <td>0</td>\n",
              "      <td>NaN</td>\n",
              "      <td>0</td>\n",
              "      <td>NaN</td>\n",
              "      <td>NaN</td>\n",
              "    </tr>\n",
              "    <tr>\n",
              "      <th>39713</th>\n",
              "      <td>90665</td>\n",
              "      <td>90607</td>\n",
              "      <td>8500</td>\n",
              "      <td>8500</td>\n",
              "      <td>875.0</td>\n",
              "      <td>36 months</td>\n",
              "      <td>10.28%</td>\n",
              "      <td>275.38</td>\n",
              "      <td>C</td>\n",
              "      <td>C1</td>\n",
              "      <td>Squarewave Solutions, Ltd.</td>\n",
              "      <td>3 years</td>\n",
              "      <td>RENT</td>\n",
              "      <td>18000.0</td>\n",
              "      <td>Not Verified</td>\n",
              "      <td>Jul-07</td>\n",
              "      <td>Fully Paid</td>\n",
              "      <td>n</td>\n",
              "      <td>https://lendingclub.com/browse/loanDetail.acti...</td>\n",
              "      <td>The rate of interest and fees incurred by carr...</td>\n",
              "      <td>credit_card</td>\n",
              "      <td>Retiring credit card debt</td>\n",
              "      <td>274xx</td>\n",
              "      <td>NC</td>\n",
              "      <td>6.40</td>\n",
              "      <td>1</td>\n",
              "      <td>Dec-86</td>\n",
              "      <td>1</td>\n",
              "      <td>6</td>\n",
              "      <td>0</td>\n",
              "      <td>8847</td>\n",
              "      <td>26.90%</td>\n",
              "      <td>9</td>\n",
              "      <td>f</td>\n",
              "      <td>0.00</td>\n",
              "      <td>0.00</td>\n",
              "      <td>9913.491822</td>\n",
              "      <td>1020.51</td>\n",
              "      <td>8500.00</td>\n",
              "      <td>1413.49</td>\n",
              "      <td>0.00</td>\n",
              "      <td>0.00</td>\n",
              "      <td>0.00</td>\n",
              "      <td>Jul-10</td>\n",
              "      <td>281.94</td>\n",
              "      <td>Jul-10</td>\n",
              "      <td>NaN</td>\n",
              "      <td>1</td>\n",
              "      <td>INDIVIDUAL</td>\n",
              "      <td>0</td>\n",
              "      <td>NaN</td>\n",
              "      <td>0</td>\n",
              "      <td>NaN</td>\n",
              "      <td>NaN</td>\n",
              "    </tr>\n",
              "    <tr>\n",
              "      <th>39714</th>\n",
              "      <td>90395</td>\n",
              "      <td>90390</td>\n",
              "      <td>5000</td>\n",
              "      <td>5000</td>\n",
              "      <td>1325.0</td>\n",
              "      <td>36 months</td>\n",
              "      <td>8.07%</td>\n",
              "      <td>156.84</td>\n",
              "      <td>A</td>\n",
              "      <td>A4</td>\n",
              "      <td>NaN</td>\n",
              "      <td>&lt; 1 year</td>\n",
              "      <td>MORTGAGE</td>\n",
              "      <td>100000.0</td>\n",
              "      <td>Not Verified</td>\n",
              "      <td>Jul-07</td>\n",
              "      <td>Fully Paid</td>\n",
              "      <td>n</td>\n",
              "      <td>https://lendingclub.com/browse/loanDetail.acti...</td>\n",
              "      <td>NaN</td>\n",
              "      <td>debt_consolidation</td>\n",
              "      <td>MBA Loan Consolidation</td>\n",
              "      <td>017xx</td>\n",
              "      <td>MA</td>\n",
              "      <td>2.30</td>\n",
              "      <td>0</td>\n",
              "      <td>Oct-98</td>\n",
              "      <td>0</td>\n",
              "      <td>11</td>\n",
              "      <td>0</td>\n",
              "      <td>9698</td>\n",
              "      <td>19.40%</td>\n",
              "      <td>20</td>\n",
              "      <td>f</td>\n",
              "      <td>0.00</td>\n",
              "      <td>0.00</td>\n",
              "      <td>5272.161128</td>\n",
              "      <td>1397.12</td>\n",
              "      <td>5000.00</td>\n",
              "      <td>272.16</td>\n",
              "      <td>0.00</td>\n",
              "      <td>0.00</td>\n",
              "      <td>0.00</td>\n",
              "      <td>Apr-08</td>\n",
              "      <td>0.00</td>\n",
              "      <td>Jun-07</td>\n",
              "      <td>NaN</td>\n",
              "      <td>1</td>\n",
              "      <td>INDIVIDUAL</td>\n",
              "      <td>0</td>\n",
              "      <td>NaN</td>\n",
              "      <td>0</td>\n",
              "      <td>NaN</td>\n",
              "      <td>NaN</td>\n",
              "    </tr>\n",
              "    <tr>\n",
              "      <th>39715</th>\n",
              "      <td>90376</td>\n",
              "      <td>89243</td>\n",
              "      <td>5000</td>\n",
              "      <td>5000</td>\n",
              "      <td>650.0</td>\n",
              "      <td>36 months</td>\n",
              "      <td>7.43%</td>\n",
              "      <td>155.38</td>\n",
              "      <td>A</td>\n",
              "      <td>A2</td>\n",
              "      <td>NaN</td>\n",
              "      <td>&lt; 1 year</td>\n",
              "      <td>MORTGAGE</td>\n",
              "      <td>200000.0</td>\n",
              "      <td>Not Verified</td>\n",
              "      <td>Jul-07</td>\n",
              "      <td>Fully Paid</td>\n",
              "      <td>n</td>\n",
              "      <td>https://lendingclub.com/browse/loanDetail.acti...</td>\n",
              "      <td>NaN</td>\n",
              "      <td>other</td>\n",
              "      <td>JAL Loan</td>\n",
              "      <td>208xx</td>\n",
              "      <td>MD</td>\n",
              "      <td>3.72</td>\n",
              "      <td>0</td>\n",
              "      <td>Nov-88</td>\n",
              "      <td>0</td>\n",
              "      <td>17</td>\n",
              "      <td>0</td>\n",
              "      <td>85607</td>\n",
              "      <td>0.70%</td>\n",
              "      <td>26</td>\n",
              "      <td>f</td>\n",
              "      <td>0.00</td>\n",
              "      <td>0.00</td>\n",
              "      <td>5174.198551</td>\n",
              "      <td>672.66</td>\n",
              "      <td>5000.00</td>\n",
              "      <td>174.20</td>\n",
              "      <td>0.00</td>\n",
              "      <td>0.00</td>\n",
              "      <td>0.00</td>\n",
              "      <td>Jan-08</td>\n",
              "      <td>0.00</td>\n",
              "      <td>Jun-07</td>\n",
              "      <td>NaN</td>\n",
              "      <td>1</td>\n",
              "      <td>INDIVIDUAL</td>\n",
              "      <td>0</td>\n",
              "      <td>NaN</td>\n",
              "      <td>0</td>\n",
              "      <td>NaN</td>\n",
              "      <td>NaN</td>\n",
              "    </tr>\n",
              "    <tr>\n",
              "      <th>39716</th>\n",
              "      <td>87023</td>\n",
              "      <td>86999</td>\n",
              "      <td>7500</td>\n",
              "      <td>7500</td>\n",
              "      <td>800.0</td>\n",
              "      <td>36 months</td>\n",
              "      <td>13.75%</td>\n",
              "      <td>255.43</td>\n",
              "      <td>E</td>\n",
              "      <td>E2</td>\n",
              "      <td>Evergreen Center</td>\n",
              "      <td>&lt; 1 year</td>\n",
              "      <td>OWN</td>\n",
              "      <td>22000.0</td>\n",
              "      <td>Not Verified</td>\n",
              "      <td>Jun-07</td>\n",
              "      <td>Fully Paid</td>\n",
              "      <td>n</td>\n",
              "      <td>https://lendingclub.com/browse/loanDetail.acti...</td>\n",
              "      <td>I plan to consolidate over $7,000 of debt: a c...</td>\n",
              "      <td>debt_consolidation</td>\n",
              "      <td>Consolidation Loan</td>\n",
              "      <td>027xx</td>\n",
              "      <td>MA</td>\n",
              "      <td>14.29</td>\n",
              "      <td>1</td>\n",
              "      <td>Oct-03</td>\n",
              "      <td>0</td>\n",
              "      <td>7</td>\n",
              "      <td>0</td>\n",
              "      <td>4175</td>\n",
              "      <td>51.50%</td>\n",
              "      <td>8</td>\n",
              "      <td>f</td>\n",
              "      <td>0.00</td>\n",
              "      <td>0.00</td>\n",
              "      <td>9195.263334</td>\n",
              "      <td>980.83</td>\n",
              "      <td>7500.00</td>\n",
              "      <td>1695.26</td>\n",
              "      <td>0.00</td>\n",
              "      <td>0.00</td>\n",
              "      <td>0.00</td>\n",
              "      <td>Jun-10</td>\n",
              "      <td>256.59</td>\n",
              "      <td>Jun-10</td>\n",
              "      <td>NaN</td>\n",
              "      <td>1</td>\n",
              "      <td>INDIVIDUAL</td>\n",
              "      <td>0</td>\n",
              "      <td>NaN</td>\n",
              "      <td>0</td>\n",
              "      <td>NaN</td>\n",
              "      <td>NaN</td>\n",
              "    </tr>\n",
              "  </tbody>\n",
              "</table>\n",
              "<p>39717 rows × 54 columns</p>\n",
              "</div>"
            ],
            "text/plain": [
              "            id  member_id  ...  pub_rec_bankruptcies  tax_liens\n",
              "0      1077501    1296599  ...                   0.0        0.0\n",
              "1      1077430    1314167  ...                   0.0        0.0\n",
              "2      1077175    1313524  ...                   0.0        0.0\n",
              "3      1076863    1277178  ...                   0.0        0.0\n",
              "4      1075358    1311748  ...                   0.0        0.0\n",
              "...        ...        ...  ...                   ...        ...\n",
              "39712    92187      92174  ...                   NaN        NaN\n",
              "39713    90665      90607  ...                   NaN        NaN\n",
              "39714    90395      90390  ...                   NaN        NaN\n",
              "39715    90376      89243  ...                   NaN        NaN\n",
              "39716    87023      86999  ...                   NaN        NaN\n",
              "\n",
              "[39717 rows x 54 columns]"
            ]
          },
          "metadata": {
            "tags": []
          },
          "execution_count": 11
        }
      ]
    },
    {
      "cell_type": "markdown",
      "metadata": {
        "id": "CxjRWF1L0hds",
        "colab_type": "text"
      },
      "source": [
        "## Removing column with single unique value"
      ]
    },
    {
      "cell_type": "code",
      "metadata": {
        "id": "yS4YTUri0hdv",
        "colab_type": "code",
        "outputId": "d6d93978-1256-4e6b-fb8d-c0c7927a4618",
        "colab": {
          "base_uri": "https://localhost:8080/",
          "height": 35
        }
      },
      "source": [
        "len(df.member_id.unique())"
      ],
      "execution_count": 12,
      "outputs": [
        {
          "output_type": "execute_result",
          "data": {
            "text/plain": [
              "39717"
            ]
          },
          "metadata": {
            "tags": []
          },
          "execution_count": 12
        }
      ]
    },
    {
      "cell_type": "code",
      "metadata": {
        "id": "1-ensKw20hd1",
        "colab_type": "code",
        "outputId": "54151223-b829-476e-d0f2-63edb28009f5",
        "colab": {
          "base_uri": "https://localhost:8080/",
          "height": 35
        }
      },
      "source": [
        "df.collections_12_mths_ex_med.unique()"
      ],
      "execution_count": 13,
      "outputs": [
        {
          "output_type": "execute_result",
          "data": {
            "text/plain": [
              "array([ 0., nan])"
            ]
          },
          "metadata": {
            "tags": []
          },
          "execution_count": 13
        }
      ]
    },
    {
      "cell_type": "code",
      "metadata": {
        "id": "KOtYyo1k0hd8",
        "colab_type": "code",
        "outputId": "c6832d37-3602-479f-b1b7-2c4bf28c2892",
        "colab": {
          "base_uri": "https://localhost:8080/",
          "height": 35
        }
      },
      "source": [
        "df.delinq_amnt.unique()"
      ],
      "execution_count": 14,
      "outputs": [
        {
          "output_type": "execute_result",
          "data": {
            "text/plain": [
              "array([0])"
            ]
          },
          "metadata": {
            "tags": []
          },
          "execution_count": 14
        }
      ]
    },
    {
      "cell_type": "code",
      "metadata": {
        "id": "Qlr3XwAS0heG",
        "colab_type": "code",
        "outputId": "401d0592-7a0c-4cda-c84e-9886c85339d1",
        "colab": {
          "base_uri": "https://localhost:8080/",
          "height": 35
        }
      },
      "source": [
        "df.tax_liens.unique()"
      ],
      "execution_count": 15,
      "outputs": [
        {
          "output_type": "execute_result",
          "data": {
            "text/plain": [
              "array([ 0., nan])"
            ]
          },
          "metadata": {
            "tags": []
          },
          "execution_count": 15
        }
      ]
    },
    {
      "cell_type": "code",
      "metadata": {
        "id": "hSH60yLx0heO",
        "colab_type": "code",
        "outputId": "60fc3079-aade-499c-abe6-ef4869226ee2",
        "colab": {
          "base_uri": "https://localhost:8080/",
          "height": 35
        }
      },
      "source": [
        "df.application_type.unique()"
      ],
      "execution_count": 16,
      "outputs": [
        {
          "output_type": "execute_result",
          "data": {
            "text/plain": [
              "array(['INDIVIDUAL'], dtype=object)"
            ]
          },
          "metadata": {
            "tags": []
          },
          "execution_count": 16
        }
      ]
    },
    {
      "cell_type": "code",
      "metadata": {
        "id": "cOXcemKr0heU",
        "colab_type": "code",
        "outputId": "5de50011-0dd1-4237-9654-09b25fc7542d",
        "colab": {
          "base_uri": "https://localhost:8080/",
          "height": 35
        }
      },
      "source": [
        "df.policy_code.unique()"
      ],
      "execution_count": 17,
      "outputs": [
        {
          "output_type": "execute_result",
          "data": {
            "text/plain": [
              "array([1])"
            ]
          },
          "metadata": {
            "tags": []
          },
          "execution_count": 17
        }
      ]
    },
    {
      "cell_type": "code",
      "metadata": {
        "id": "OlZ_sTKr0heb",
        "colab_type": "code",
        "outputId": "44ebdb63-4fa4-48d6-b54e-14f923419042",
        "colab": {
          "base_uri": "https://localhost:8080/",
          "height": 35
        }
      },
      "source": [
        "df.acc_now_delinq.unique()"
      ],
      "execution_count": 18,
      "outputs": [
        {
          "output_type": "execute_result",
          "data": {
            "text/plain": [
              "array([0])"
            ]
          },
          "metadata": {
            "tags": []
          },
          "execution_count": 18
        }
      ]
    },
    {
      "cell_type": "code",
      "metadata": {
        "id": "NdAElI0A0hej",
        "colab_type": "code",
        "outputId": "99bfc3b9-4b6e-418a-f463-fbac0e3681c9",
        "colab": {
          "base_uri": "https://localhost:8080/",
          "height": 35
        }
      },
      "source": [
        "df.collections_12_mths_ex_med.unique()"
      ],
      "execution_count": 19,
      "outputs": [
        {
          "output_type": "execute_result",
          "data": {
            "text/plain": [
              "array([ 0., nan])"
            ]
          },
          "metadata": {
            "tags": []
          },
          "execution_count": 19
        }
      ]
    },
    {
      "cell_type": "code",
      "metadata": {
        "id": "vnv83ZVl0hep",
        "colab_type": "code",
        "outputId": "33957193-e310-4740-e9e3-b6d6e3cb8325",
        "colab": {
          "base_uri": "https://localhost:8080/",
          "height": 35
        }
      },
      "source": [
        "df.term.unique()"
      ],
      "execution_count": 20,
      "outputs": [
        {
          "output_type": "execute_result",
          "data": {
            "text/plain": [
              "array([' 36 months', ' 60 months'], dtype=object)"
            ]
          },
          "metadata": {
            "tags": []
          },
          "execution_count": 20
        }
      ]
    },
    {
      "cell_type": "code",
      "metadata": {
        "id": "ExD5lCUO0hey",
        "colab_type": "code",
        "outputId": "fc9e4a4a-25c0-4553-949e-7d5acc2abdd1",
        "colab": {
          "base_uri": "https://localhost:8080/",
          "height": 35
        }
      },
      "source": [
        "df.initial_list_status.unique()"
      ],
      "execution_count": 21,
      "outputs": [
        {
          "output_type": "execute_result",
          "data": {
            "text/plain": [
              "array(['f'], dtype=object)"
            ]
          },
          "metadata": {
            "tags": []
          },
          "execution_count": 21
        }
      ]
    },
    {
      "cell_type": "code",
      "metadata": {
        "id": "rzT88p4M0he3",
        "colab_type": "code",
        "colab": {}
      },
      "source": [
        "drop_cols = ['desc','initial_list_status','pymnt_plan','policy_code','application_type','acc_now_delinq','chargeoff_within_12_mths','delinq_amnt','tax_liens','collections_12_mths_ex_med']\n",
        "\n",
        "\n",
        "df = df.drop(drop_cols,axis=1)"
      ],
      "execution_count": 0,
      "outputs": []
    },
    {
      "cell_type": "code",
      "metadata": {
        "id": "WKxL5siq0he9",
        "colab_type": "code",
        "outputId": "64dc4726-4802-4e52-c4b3-5d796f99fd1c",
        "colab": {
          "base_uri": "https://localhost:8080/",
          "height": 652
        }
      },
      "source": [
        "df"
      ],
      "execution_count": 23,
      "outputs": [
        {
          "output_type": "execute_result",
          "data": {
            "text/html": [
              "<div>\n",
              "<style scoped>\n",
              "    .dataframe tbody tr th:only-of-type {\n",
              "        vertical-align: middle;\n",
              "    }\n",
              "\n",
              "    .dataframe tbody tr th {\n",
              "        vertical-align: top;\n",
              "    }\n",
              "\n",
              "    .dataframe thead th {\n",
              "        text-align: right;\n",
              "    }\n",
              "</style>\n",
              "<table border=\"1\" class=\"dataframe\">\n",
              "  <thead>\n",
              "    <tr style=\"text-align: right;\">\n",
              "      <th></th>\n",
              "      <th>id</th>\n",
              "      <th>member_id</th>\n",
              "      <th>loan_amnt</th>\n",
              "      <th>funded_amnt</th>\n",
              "      <th>funded_amnt_inv</th>\n",
              "      <th>term</th>\n",
              "      <th>int_rate</th>\n",
              "      <th>installment</th>\n",
              "      <th>grade</th>\n",
              "      <th>sub_grade</th>\n",
              "      <th>emp_title</th>\n",
              "      <th>emp_length</th>\n",
              "      <th>home_ownership</th>\n",
              "      <th>annual_inc</th>\n",
              "      <th>verification_status</th>\n",
              "      <th>issue_d</th>\n",
              "      <th>loan_status</th>\n",
              "      <th>url</th>\n",
              "      <th>purpose</th>\n",
              "      <th>title</th>\n",
              "      <th>zip_code</th>\n",
              "      <th>addr_state</th>\n",
              "      <th>dti</th>\n",
              "      <th>delinq_2yrs</th>\n",
              "      <th>earliest_cr_line</th>\n",
              "      <th>inq_last_6mths</th>\n",
              "      <th>open_acc</th>\n",
              "      <th>pub_rec</th>\n",
              "      <th>revol_bal</th>\n",
              "      <th>revol_util</th>\n",
              "      <th>total_acc</th>\n",
              "      <th>out_prncp</th>\n",
              "      <th>out_prncp_inv</th>\n",
              "      <th>total_pymnt</th>\n",
              "      <th>total_pymnt_inv</th>\n",
              "      <th>total_rec_prncp</th>\n",
              "      <th>total_rec_int</th>\n",
              "      <th>total_rec_late_fee</th>\n",
              "      <th>recoveries</th>\n",
              "      <th>collection_recovery_fee</th>\n",
              "      <th>last_pymnt_d</th>\n",
              "      <th>last_pymnt_amnt</th>\n",
              "      <th>last_credit_pull_d</th>\n",
              "      <th>pub_rec_bankruptcies</th>\n",
              "    </tr>\n",
              "  </thead>\n",
              "  <tbody>\n",
              "    <tr>\n",
              "      <th>0</th>\n",
              "      <td>1077501</td>\n",
              "      <td>1296599</td>\n",
              "      <td>5000</td>\n",
              "      <td>5000</td>\n",
              "      <td>4975.0</td>\n",
              "      <td>36 months</td>\n",
              "      <td>10.65%</td>\n",
              "      <td>162.87</td>\n",
              "      <td>B</td>\n",
              "      <td>B2</td>\n",
              "      <td>NaN</td>\n",
              "      <td>10+ years</td>\n",
              "      <td>RENT</td>\n",
              "      <td>24000.0</td>\n",
              "      <td>Verified</td>\n",
              "      <td>Dec-11</td>\n",
              "      <td>Fully Paid</td>\n",
              "      <td>https://lendingclub.com/browse/loanDetail.acti...</td>\n",
              "      <td>credit_card</td>\n",
              "      <td>Computer</td>\n",
              "      <td>860xx</td>\n",
              "      <td>AZ</td>\n",
              "      <td>27.65</td>\n",
              "      <td>0</td>\n",
              "      <td>Jan-85</td>\n",
              "      <td>1</td>\n",
              "      <td>3</td>\n",
              "      <td>0</td>\n",
              "      <td>13648</td>\n",
              "      <td>83.70%</td>\n",
              "      <td>9</td>\n",
              "      <td>0.00</td>\n",
              "      <td>0.00</td>\n",
              "      <td>5863.155187</td>\n",
              "      <td>5833.84</td>\n",
              "      <td>5000.00</td>\n",
              "      <td>863.16</td>\n",
              "      <td>0.00</td>\n",
              "      <td>0.00</td>\n",
              "      <td>0.00</td>\n",
              "      <td>Jan-15</td>\n",
              "      <td>171.62</td>\n",
              "      <td>May-16</td>\n",
              "      <td>0.0</td>\n",
              "    </tr>\n",
              "    <tr>\n",
              "      <th>1</th>\n",
              "      <td>1077430</td>\n",
              "      <td>1314167</td>\n",
              "      <td>2500</td>\n",
              "      <td>2500</td>\n",
              "      <td>2500.0</td>\n",
              "      <td>60 months</td>\n",
              "      <td>15.27%</td>\n",
              "      <td>59.83</td>\n",
              "      <td>C</td>\n",
              "      <td>C4</td>\n",
              "      <td>Ryder</td>\n",
              "      <td>&lt; 1 year</td>\n",
              "      <td>RENT</td>\n",
              "      <td>30000.0</td>\n",
              "      <td>Source Verified</td>\n",
              "      <td>Dec-11</td>\n",
              "      <td>Charged Off</td>\n",
              "      <td>https://lendingclub.com/browse/loanDetail.acti...</td>\n",
              "      <td>car</td>\n",
              "      <td>bike</td>\n",
              "      <td>309xx</td>\n",
              "      <td>GA</td>\n",
              "      <td>1.00</td>\n",
              "      <td>0</td>\n",
              "      <td>Apr-99</td>\n",
              "      <td>5</td>\n",
              "      <td>3</td>\n",
              "      <td>0</td>\n",
              "      <td>1687</td>\n",
              "      <td>9.40%</td>\n",
              "      <td>4</td>\n",
              "      <td>0.00</td>\n",
              "      <td>0.00</td>\n",
              "      <td>1008.710000</td>\n",
              "      <td>1008.71</td>\n",
              "      <td>456.46</td>\n",
              "      <td>435.17</td>\n",
              "      <td>0.00</td>\n",
              "      <td>117.08</td>\n",
              "      <td>1.11</td>\n",
              "      <td>Apr-13</td>\n",
              "      <td>119.66</td>\n",
              "      <td>Sep-13</td>\n",
              "      <td>0.0</td>\n",
              "    </tr>\n",
              "    <tr>\n",
              "      <th>2</th>\n",
              "      <td>1077175</td>\n",
              "      <td>1313524</td>\n",
              "      <td>2400</td>\n",
              "      <td>2400</td>\n",
              "      <td>2400.0</td>\n",
              "      <td>36 months</td>\n",
              "      <td>15.96%</td>\n",
              "      <td>84.33</td>\n",
              "      <td>C</td>\n",
              "      <td>C5</td>\n",
              "      <td>NaN</td>\n",
              "      <td>10+ years</td>\n",
              "      <td>RENT</td>\n",
              "      <td>12252.0</td>\n",
              "      <td>Not Verified</td>\n",
              "      <td>Dec-11</td>\n",
              "      <td>Fully Paid</td>\n",
              "      <td>https://lendingclub.com/browse/loanDetail.acti...</td>\n",
              "      <td>small_business</td>\n",
              "      <td>real estate business</td>\n",
              "      <td>606xx</td>\n",
              "      <td>IL</td>\n",
              "      <td>8.72</td>\n",
              "      <td>0</td>\n",
              "      <td>Nov-01</td>\n",
              "      <td>2</td>\n",
              "      <td>2</td>\n",
              "      <td>0</td>\n",
              "      <td>2956</td>\n",
              "      <td>98.50%</td>\n",
              "      <td>10</td>\n",
              "      <td>0.00</td>\n",
              "      <td>0.00</td>\n",
              "      <td>3005.666844</td>\n",
              "      <td>3005.67</td>\n",
              "      <td>2400.00</td>\n",
              "      <td>605.67</td>\n",
              "      <td>0.00</td>\n",
              "      <td>0.00</td>\n",
              "      <td>0.00</td>\n",
              "      <td>Jun-14</td>\n",
              "      <td>649.91</td>\n",
              "      <td>May-16</td>\n",
              "      <td>0.0</td>\n",
              "    </tr>\n",
              "    <tr>\n",
              "      <th>3</th>\n",
              "      <td>1076863</td>\n",
              "      <td>1277178</td>\n",
              "      <td>10000</td>\n",
              "      <td>10000</td>\n",
              "      <td>10000.0</td>\n",
              "      <td>36 months</td>\n",
              "      <td>13.49%</td>\n",
              "      <td>339.31</td>\n",
              "      <td>C</td>\n",
              "      <td>C1</td>\n",
              "      <td>AIR RESOURCES BOARD</td>\n",
              "      <td>10+ years</td>\n",
              "      <td>RENT</td>\n",
              "      <td>49200.0</td>\n",
              "      <td>Source Verified</td>\n",
              "      <td>Dec-11</td>\n",
              "      <td>Fully Paid</td>\n",
              "      <td>https://lendingclub.com/browse/loanDetail.acti...</td>\n",
              "      <td>other</td>\n",
              "      <td>personel</td>\n",
              "      <td>917xx</td>\n",
              "      <td>CA</td>\n",
              "      <td>20.00</td>\n",
              "      <td>0</td>\n",
              "      <td>Feb-96</td>\n",
              "      <td>1</td>\n",
              "      <td>10</td>\n",
              "      <td>0</td>\n",
              "      <td>5598</td>\n",
              "      <td>21%</td>\n",
              "      <td>37</td>\n",
              "      <td>0.00</td>\n",
              "      <td>0.00</td>\n",
              "      <td>12231.890000</td>\n",
              "      <td>12231.89</td>\n",
              "      <td>10000.00</td>\n",
              "      <td>2214.92</td>\n",
              "      <td>16.97</td>\n",
              "      <td>0.00</td>\n",
              "      <td>0.00</td>\n",
              "      <td>Jan-15</td>\n",
              "      <td>357.48</td>\n",
              "      <td>Apr-16</td>\n",
              "      <td>0.0</td>\n",
              "    </tr>\n",
              "    <tr>\n",
              "      <th>4</th>\n",
              "      <td>1075358</td>\n",
              "      <td>1311748</td>\n",
              "      <td>3000</td>\n",
              "      <td>3000</td>\n",
              "      <td>3000.0</td>\n",
              "      <td>60 months</td>\n",
              "      <td>12.69%</td>\n",
              "      <td>67.79</td>\n",
              "      <td>B</td>\n",
              "      <td>B5</td>\n",
              "      <td>University Medical Group</td>\n",
              "      <td>1 year</td>\n",
              "      <td>RENT</td>\n",
              "      <td>80000.0</td>\n",
              "      <td>Source Verified</td>\n",
              "      <td>Dec-11</td>\n",
              "      <td>Current</td>\n",
              "      <td>https://lendingclub.com/browse/loanDetail.acti...</td>\n",
              "      <td>other</td>\n",
              "      <td>Personal</td>\n",
              "      <td>972xx</td>\n",
              "      <td>OR</td>\n",
              "      <td>17.94</td>\n",
              "      <td>0</td>\n",
              "      <td>Jan-96</td>\n",
              "      <td>0</td>\n",
              "      <td>15</td>\n",
              "      <td>0</td>\n",
              "      <td>27783</td>\n",
              "      <td>53.90%</td>\n",
              "      <td>38</td>\n",
              "      <td>524.06</td>\n",
              "      <td>524.06</td>\n",
              "      <td>3513.330000</td>\n",
              "      <td>3513.33</td>\n",
              "      <td>2475.94</td>\n",
              "      <td>1037.39</td>\n",
              "      <td>0.00</td>\n",
              "      <td>0.00</td>\n",
              "      <td>0.00</td>\n",
              "      <td>May-16</td>\n",
              "      <td>67.79</td>\n",
              "      <td>May-16</td>\n",
              "      <td>0.0</td>\n",
              "    </tr>\n",
              "    <tr>\n",
              "      <th>...</th>\n",
              "      <td>...</td>\n",
              "      <td>...</td>\n",
              "      <td>...</td>\n",
              "      <td>...</td>\n",
              "      <td>...</td>\n",
              "      <td>...</td>\n",
              "      <td>...</td>\n",
              "      <td>...</td>\n",
              "      <td>...</td>\n",
              "      <td>...</td>\n",
              "      <td>...</td>\n",
              "      <td>...</td>\n",
              "      <td>...</td>\n",
              "      <td>...</td>\n",
              "      <td>...</td>\n",
              "      <td>...</td>\n",
              "      <td>...</td>\n",
              "      <td>...</td>\n",
              "      <td>...</td>\n",
              "      <td>...</td>\n",
              "      <td>...</td>\n",
              "      <td>...</td>\n",
              "      <td>...</td>\n",
              "      <td>...</td>\n",
              "      <td>...</td>\n",
              "      <td>...</td>\n",
              "      <td>...</td>\n",
              "      <td>...</td>\n",
              "      <td>...</td>\n",
              "      <td>...</td>\n",
              "      <td>...</td>\n",
              "      <td>...</td>\n",
              "      <td>...</td>\n",
              "      <td>...</td>\n",
              "      <td>...</td>\n",
              "      <td>...</td>\n",
              "      <td>...</td>\n",
              "      <td>...</td>\n",
              "      <td>...</td>\n",
              "      <td>...</td>\n",
              "      <td>...</td>\n",
              "      <td>...</td>\n",
              "      <td>...</td>\n",
              "      <td>...</td>\n",
              "    </tr>\n",
              "    <tr>\n",
              "      <th>39712</th>\n",
              "      <td>92187</td>\n",
              "      <td>92174</td>\n",
              "      <td>2500</td>\n",
              "      <td>2500</td>\n",
              "      <td>1075.0</td>\n",
              "      <td>36 months</td>\n",
              "      <td>8.07%</td>\n",
              "      <td>78.42</td>\n",
              "      <td>A</td>\n",
              "      <td>A4</td>\n",
              "      <td>FiSite Research</td>\n",
              "      <td>4 years</td>\n",
              "      <td>MORTGAGE</td>\n",
              "      <td>110000.0</td>\n",
              "      <td>Not Verified</td>\n",
              "      <td>Jul-07</td>\n",
              "      <td>Fully Paid</td>\n",
              "      <td>https://lendingclub.com/browse/loanDetail.acti...</td>\n",
              "      <td>home_improvement</td>\n",
              "      <td>Home Improvement</td>\n",
              "      <td>802xx</td>\n",
              "      <td>CO</td>\n",
              "      <td>11.33</td>\n",
              "      <td>0</td>\n",
              "      <td>Nov-90</td>\n",
              "      <td>0</td>\n",
              "      <td>13</td>\n",
              "      <td>0</td>\n",
              "      <td>7274</td>\n",
              "      <td>13.10%</td>\n",
              "      <td>40</td>\n",
              "      <td>0.00</td>\n",
              "      <td>0.00</td>\n",
              "      <td>2822.969293</td>\n",
              "      <td>1213.88</td>\n",
              "      <td>2500.00</td>\n",
              "      <td>322.97</td>\n",
              "      <td>0.00</td>\n",
              "      <td>0.00</td>\n",
              "      <td>0.00</td>\n",
              "      <td>Jul-10</td>\n",
              "      <td>80.90</td>\n",
              "      <td>Jun-10</td>\n",
              "      <td>NaN</td>\n",
              "    </tr>\n",
              "    <tr>\n",
              "      <th>39713</th>\n",
              "      <td>90665</td>\n",
              "      <td>90607</td>\n",
              "      <td>8500</td>\n",
              "      <td>8500</td>\n",
              "      <td>875.0</td>\n",
              "      <td>36 months</td>\n",
              "      <td>10.28%</td>\n",
              "      <td>275.38</td>\n",
              "      <td>C</td>\n",
              "      <td>C1</td>\n",
              "      <td>Squarewave Solutions, Ltd.</td>\n",
              "      <td>3 years</td>\n",
              "      <td>RENT</td>\n",
              "      <td>18000.0</td>\n",
              "      <td>Not Verified</td>\n",
              "      <td>Jul-07</td>\n",
              "      <td>Fully Paid</td>\n",
              "      <td>https://lendingclub.com/browse/loanDetail.acti...</td>\n",
              "      <td>credit_card</td>\n",
              "      <td>Retiring credit card debt</td>\n",
              "      <td>274xx</td>\n",
              "      <td>NC</td>\n",
              "      <td>6.40</td>\n",
              "      <td>1</td>\n",
              "      <td>Dec-86</td>\n",
              "      <td>1</td>\n",
              "      <td>6</td>\n",
              "      <td>0</td>\n",
              "      <td>8847</td>\n",
              "      <td>26.90%</td>\n",
              "      <td>9</td>\n",
              "      <td>0.00</td>\n",
              "      <td>0.00</td>\n",
              "      <td>9913.491822</td>\n",
              "      <td>1020.51</td>\n",
              "      <td>8500.00</td>\n",
              "      <td>1413.49</td>\n",
              "      <td>0.00</td>\n",
              "      <td>0.00</td>\n",
              "      <td>0.00</td>\n",
              "      <td>Jul-10</td>\n",
              "      <td>281.94</td>\n",
              "      <td>Jul-10</td>\n",
              "      <td>NaN</td>\n",
              "    </tr>\n",
              "    <tr>\n",
              "      <th>39714</th>\n",
              "      <td>90395</td>\n",
              "      <td>90390</td>\n",
              "      <td>5000</td>\n",
              "      <td>5000</td>\n",
              "      <td>1325.0</td>\n",
              "      <td>36 months</td>\n",
              "      <td>8.07%</td>\n",
              "      <td>156.84</td>\n",
              "      <td>A</td>\n",
              "      <td>A4</td>\n",
              "      <td>NaN</td>\n",
              "      <td>&lt; 1 year</td>\n",
              "      <td>MORTGAGE</td>\n",
              "      <td>100000.0</td>\n",
              "      <td>Not Verified</td>\n",
              "      <td>Jul-07</td>\n",
              "      <td>Fully Paid</td>\n",
              "      <td>https://lendingclub.com/browse/loanDetail.acti...</td>\n",
              "      <td>debt_consolidation</td>\n",
              "      <td>MBA Loan Consolidation</td>\n",
              "      <td>017xx</td>\n",
              "      <td>MA</td>\n",
              "      <td>2.30</td>\n",
              "      <td>0</td>\n",
              "      <td>Oct-98</td>\n",
              "      <td>0</td>\n",
              "      <td>11</td>\n",
              "      <td>0</td>\n",
              "      <td>9698</td>\n",
              "      <td>19.40%</td>\n",
              "      <td>20</td>\n",
              "      <td>0.00</td>\n",
              "      <td>0.00</td>\n",
              "      <td>5272.161128</td>\n",
              "      <td>1397.12</td>\n",
              "      <td>5000.00</td>\n",
              "      <td>272.16</td>\n",
              "      <td>0.00</td>\n",
              "      <td>0.00</td>\n",
              "      <td>0.00</td>\n",
              "      <td>Apr-08</td>\n",
              "      <td>0.00</td>\n",
              "      <td>Jun-07</td>\n",
              "      <td>NaN</td>\n",
              "    </tr>\n",
              "    <tr>\n",
              "      <th>39715</th>\n",
              "      <td>90376</td>\n",
              "      <td>89243</td>\n",
              "      <td>5000</td>\n",
              "      <td>5000</td>\n",
              "      <td>650.0</td>\n",
              "      <td>36 months</td>\n",
              "      <td>7.43%</td>\n",
              "      <td>155.38</td>\n",
              "      <td>A</td>\n",
              "      <td>A2</td>\n",
              "      <td>NaN</td>\n",
              "      <td>&lt; 1 year</td>\n",
              "      <td>MORTGAGE</td>\n",
              "      <td>200000.0</td>\n",
              "      <td>Not Verified</td>\n",
              "      <td>Jul-07</td>\n",
              "      <td>Fully Paid</td>\n",
              "      <td>https://lendingclub.com/browse/loanDetail.acti...</td>\n",
              "      <td>other</td>\n",
              "      <td>JAL Loan</td>\n",
              "      <td>208xx</td>\n",
              "      <td>MD</td>\n",
              "      <td>3.72</td>\n",
              "      <td>0</td>\n",
              "      <td>Nov-88</td>\n",
              "      <td>0</td>\n",
              "      <td>17</td>\n",
              "      <td>0</td>\n",
              "      <td>85607</td>\n",
              "      <td>0.70%</td>\n",
              "      <td>26</td>\n",
              "      <td>0.00</td>\n",
              "      <td>0.00</td>\n",
              "      <td>5174.198551</td>\n",
              "      <td>672.66</td>\n",
              "      <td>5000.00</td>\n",
              "      <td>174.20</td>\n",
              "      <td>0.00</td>\n",
              "      <td>0.00</td>\n",
              "      <td>0.00</td>\n",
              "      <td>Jan-08</td>\n",
              "      <td>0.00</td>\n",
              "      <td>Jun-07</td>\n",
              "      <td>NaN</td>\n",
              "    </tr>\n",
              "    <tr>\n",
              "      <th>39716</th>\n",
              "      <td>87023</td>\n",
              "      <td>86999</td>\n",
              "      <td>7500</td>\n",
              "      <td>7500</td>\n",
              "      <td>800.0</td>\n",
              "      <td>36 months</td>\n",
              "      <td>13.75%</td>\n",
              "      <td>255.43</td>\n",
              "      <td>E</td>\n",
              "      <td>E2</td>\n",
              "      <td>Evergreen Center</td>\n",
              "      <td>&lt; 1 year</td>\n",
              "      <td>OWN</td>\n",
              "      <td>22000.0</td>\n",
              "      <td>Not Verified</td>\n",
              "      <td>Jun-07</td>\n",
              "      <td>Fully Paid</td>\n",
              "      <td>https://lendingclub.com/browse/loanDetail.acti...</td>\n",
              "      <td>debt_consolidation</td>\n",
              "      <td>Consolidation Loan</td>\n",
              "      <td>027xx</td>\n",
              "      <td>MA</td>\n",
              "      <td>14.29</td>\n",
              "      <td>1</td>\n",
              "      <td>Oct-03</td>\n",
              "      <td>0</td>\n",
              "      <td>7</td>\n",
              "      <td>0</td>\n",
              "      <td>4175</td>\n",
              "      <td>51.50%</td>\n",
              "      <td>8</td>\n",
              "      <td>0.00</td>\n",
              "      <td>0.00</td>\n",
              "      <td>9195.263334</td>\n",
              "      <td>980.83</td>\n",
              "      <td>7500.00</td>\n",
              "      <td>1695.26</td>\n",
              "      <td>0.00</td>\n",
              "      <td>0.00</td>\n",
              "      <td>0.00</td>\n",
              "      <td>Jun-10</td>\n",
              "      <td>256.59</td>\n",
              "      <td>Jun-10</td>\n",
              "      <td>NaN</td>\n",
              "    </tr>\n",
              "  </tbody>\n",
              "</table>\n",
              "<p>39717 rows × 44 columns</p>\n",
              "</div>"
            ],
            "text/plain": [
              "            id  member_id  ...  last_credit_pull_d  pub_rec_bankruptcies\n",
              "0      1077501    1296599  ...              May-16                   0.0\n",
              "1      1077430    1314167  ...              Sep-13                   0.0\n",
              "2      1077175    1313524  ...              May-16                   0.0\n",
              "3      1076863    1277178  ...              Apr-16                   0.0\n",
              "4      1075358    1311748  ...              May-16                   0.0\n",
              "...        ...        ...  ...                 ...                   ...\n",
              "39712    92187      92174  ...              Jun-10                   NaN\n",
              "39713    90665      90607  ...              Jul-10                   NaN\n",
              "39714    90395      90390  ...              Jun-07                   NaN\n",
              "39715    90376      89243  ...              Jun-07                   NaN\n",
              "39716    87023      86999  ...              Jun-10                   NaN\n",
              "\n",
              "[39717 rows x 44 columns]"
            ]
          },
          "metadata": {
            "tags": []
          },
          "execution_count": 23
        }
      ]
    },
    {
      "cell_type": "code",
      "metadata": {
        "id": "ckD86C5m0hfI",
        "colab_type": "code",
        "colab": {}
      },
      "source": [
        "df['emp_title'] = df['emp_title'].str.lower()\n",
        "df['title'] = df['title'].str.lower()\n",
        "df['total_pymnt'] = round(df['total_pymnt'],2)\n",
        "df['int_rate'] = df['int_rate'].replace('%','',regex=True)\n",
        "df['int_rate'] = df['int_rate'].astype(float)\n",
        "df['int_rate'] = round(df['int_rate'])\n",
        "df['id'] = df['id'].astype(object)\n",
        "df['member_id'] = df['member_id'].astype(object)\n",
        "df['issue_d'] =  pd.to_datetime(df['issue_d'], format='%b-%y')\n",
        "df['issue_d_year'] = df['issue_d'].dt.year\n"
      ],
      "execution_count": 0,
      "outputs": []
    },
    {
      "cell_type": "code",
      "metadata": {
        "id": "IPaMBZIW0hfN",
        "colab_type": "code",
        "outputId": "2eef1e26-c347-4f36-81e7-ec3310fcb110",
        "colab": {
          "base_uri": "https://localhost:8080/",
          "height": 652
        }
      },
      "source": [
        "df1 = df.iloc[:,10:34]\n",
        "df1"
      ],
      "execution_count": 25,
      "outputs": [
        {
          "output_type": "execute_result",
          "data": {
            "text/html": [
              "<div>\n",
              "<style scoped>\n",
              "    .dataframe tbody tr th:only-of-type {\n",
              "        vertical-align: middle;\n",
              "    }\n",
              "\n",
              "    .dataframe tbody tr th {\n",
              "        vertical-align: top;\n",
              "    }\n",
              "\n",
              "    .dataframe thead th {\n",
              "        text-align: right;\n",
              "    }\n",
              "</style>\n",
              "<table border=\"1\" class=\"dataframe\">\n",
              "  <thead>\n",
              "    <tr style=\"text-align: right;\">\n",
              "      <th></th>\n",
              "      <th>emp_title</th>\n",
              "      <th>emp_length</th>\n",
              "      <th>home_ownership</th>\n",
              "      <th>annual_inc</th>\n",
              "      <th>verification_status</th>\n",
              "      <th>issue_d</th>\n",
              "      <th>loan_status</th>\n",
              "      <th>url</th>\n",
              "      <th>purpose</th>\n",
              "      <th>title</th>\n",
              "      <th>zip_code</th>\n",
              "      <th>addr_state</th>\n",
              "      <th>dti</th>\n",
              "      <th>delinq_2yrs</th>\n",
              "      <th>earliest_cr_line</th>\n",
              "      <th>inq_last_6mths</th>\n",
              "      <th>open_acc</th>\n",
              "      <th>pub_rec</th>\n",
              "      <th>revol_bal</th>\n",
              "      <th>revol_util</th>\n",
              "      <th>total_acc</th>\n",
              "      <th>out_prncp</th>\n",
              "      <th>out_prncp_inv</th>\n",
              "      <th>total_pymnt</th>\n",
              "    </tr>\n",
              "  </thead>\n",
              "  <tbody>\n",
              "    <tr>\n",
              "      <th>0</th>\n",
              "      <td>NaN</td>\n",
              "      <td>10+ years</td>\n",
              "      <td>RENT</td>\n",
              "      <td>24000.0</td>\n",
              "      <td>Verified</td>\n",
              "      <td>2011-12-01</td>\n",
              "      <td>Fully Paid</td>\n",
              "      <td>https://lendingclub.com/browse/loanDetail.acti...</td>\n",
              "      <td>credit_card</td>\n",
              "      <td>computer</td>\n",
              "      <td>860xx</td>\n",
              "      <td>AZ</td>\n",
              "      <td>27.65</td>\n",
              "      <td>0</td>\n",
              "      <td>Jan-85</td>\n",
              "      <td>1</td>\n",
              "      <td>3</td>\n",
              "      <td>0</td>\n",
              "      <td>13648</td>\n",
              "      <td>83.70%</td>\n",
              "      <td>9</td>\n",
              "      <td>0.00</td>\n",
              "      <td>0.00</td>\n",
              "      <td>5863.16</td>\n",
              "    </tr>\n",
              "    <tr>\n",
              "      <th>1</th>\n",
              "      <td>ryder</td>\n",
              "      <td>&lt; 1 year</td>\n",
              "      <td>RENT</td>\n",
              "      <td>30000.0</td>\n",
              "      <td>Source Verified</td>\n",
              "      <td>2011-12-01</td>\n",
              "      <td>Charged Off</td>\n",
              "      <td>https://lendingclub.com/browse/loanDetail.acti...</td>\n",
              "      <td>car</td>\n",
              "      <td>bike</td>\n",
              "      <td>309xx</td>\n",
              "      <td>GA</td>\n",
              "      <td>1.00</td>\n",
              "      <td>0</td>\n",
              "      <td>Apr-99</td>\n",
              "      <td>5</td>\n",
              "      <td>3</td>\n",
              "      <td>0</td>\n",
              "      <td>1687</td>\n",
              "      <td>9.40%</td>\n",
              "      <td>4</td>\n",
              "      <td>0.00</td>\n",
              "      <td>0.00</td>\n",
              "      <td>1008.71</td>\n",
              "    </tr>\n",
              "    <tr>\n",
              "      <th>2</th>\n",
              "      <td>NaN</td>\n",
              "      <td>10+ years</td>\n",
              "      <td>RENT</td>\n",
              "      <td>12252.0</td>\n",
              "      <td>Not Verified</td>\n",
              "      <td>2011-12-01</td>\n",
              "      <td>Fully Paid</td>\n",
              "      <td>https://lendingclub.com/browse/loanDetail.acti...</td>\n",
              "      <td>small_business</td>\n",
              "      <td>real estate business</td>\n",
              "      <td>606xx</td>\n",
              "      <td>IL</td>\n",
              "      <td>8.72</td>\n",
              "      <td>0</td>\n",
              "      <td>Nov-01</td>\n",
              "      <td>2</td>\n",
              "      <td>2</td>\n",
              "      <td>0</td>\n",
              "      <td>2956</td>\n",
              "      <td>98.50%</td>\n",
              "      <td>10</td>\n",
              "      <td>0.00</td>\n",
              "      <td>0.00</td>\n",
              "      <td>3005.67</td>\n",
              "    </tr>\n",
              "    <tr>\n",
              "      <th>3</th>\n",
              "      <td>air resources board</td>\n",
              "      <td>10+ years</td>\n",
              "      <td>RENT</td>\n",
              "      <td>49200.0</td>\n",
              "      <td>Source Verified</td>\n",
              "      <td>2011-12-01</td>\n",
              "      <td>Fully Paid</td>\n",
              "      <td>https://lendingclub.com/browse/loanDetail.acti...</td>\n",
              "      <td>other</td>\n",
              "      <td>personel</td>\n",
              "      <td>917xx</td>\n",
              "      <td>CA</td>\n",
              "      <td>20.00</td>\n",
              "      <td>0</td>\n",
              "      <td>Feb-96</td>\n",
              "      <td>1</td>\n",
              "      <td>10</td>\n",
              "      <td>0</td>\n",
              "      <td>5598</td>\n",
              "      <td>21%</td>\n",
              "      <td>37</td>\n",
              "      <td>0.00</td>\n",
              "      <td>0.00</td>\n",
              "      <td>12231.89</td>\n",
              "    </tr>\n",
              "    <tr>\n",
              "      <th>4</th>\n",
              "      <td>university medical group</td>\n",
              "      <td>1 year</td>\n",
              "      <td>RENT</td>\n",
              "      <td>80000.0</td>\n",
              "      <td>Source Verified</td>\n",
              "      <td>2011-12-01</td>\n",
              "      <td>Current</td>\n",
              "      <td>https://lendingclub.com/browse/loanDetail.acti...</td>\n",
              "      <td>other</td>\n",
              "      <td>personal</td>\n",
              "      <td>972xx</td>\n",
              "      <td>OR</td>\n",
              "      <td>17.94</td>\n",
              "      <td>0</td>\n",
              "      <td>Jan-96</td>\n",
              "      <td>0</td>\n",
              "      <td>15</td>\n",
              "      <td>0</td>\n",
              "      <td>27783</td>\n",
              "      <td>53.90%</td>\n",
              "      <td>38</td>\n",
              "      <td>524.06</td>\n",
              "      <td>524.06</td>\n",
              "      <td>3513.33</td>\n",
              "    </tr>\n",
              "    <tr>\n",
              "      <th>...</th>\n",
              "      <td>...</td>\n",
              "      <td>...</td>\n",
              "      <td>...</td>\n",
              "      <td>...</td>\n",
              "      <td>...</td>\n",
              "      <td>...</td>\n",
              "      <td>...</td>\n",
              "      <td>...</td>\n",
              "      <td>...</td>\n",
              "      <td>...</td>\n",
              "      <td>...</td>\n",
              "      <td>...</td>\n",
              "      <td>...</td>\n",
              "      <td>...</td>\n",
              "      <td>...</td>\n",
              "      <td>...</td>\n",
              "      <td>...</td>\n",
              "      <td>...</td>\n",
              "      <td>...</td>\n",
              "      <td>...</td>\n",
              "      <td>...</td>\n",
              "      <td>...</td>\n",
              "      <td>...</td>\n",
              "      <td>...</td>\n",
              "    </tr>\n",
              "    <tr>\n",
              "      <th>39712</th>\n",
              "      <td>fisite research</td>\n",
              "      <td>4 years</td>\n",
              "      <td>MORTGAGE</td>\n",
              "      <td>110000.0</td>\n",
              "      <td>Not Verified</td>\n",
              "      <td>2007-07-01</td>\n",
              "      <td>Fully Paid</td>\n",
              "      <td>https://lendingclub.com/browse/loanDetail.acti...</td>\n",
              "      <td>home_improvement</td>\n",
              "      <td>home improvement</td>\n",
              "      <td>802xx</td>\n",
              "      <td>CO</td>\n",
              "      <td>11.33</td>\n",
              "      <td>0</td>\n",
              "      <td>Nov-90</td>\n",
              "      <td>0</td>\n",
              "      <td>13</td>\n",
              "      <td>0</td>\n",
              "      <td>7274</td>\n",
              "      <td>13.10%</td>\n",
              "      <td>40</td>\n",
              "      <td>0.00</td>\n",
              "      <td>0.00</td>\n",
              "      <td>2822.97</td>\n",
              "    </tr>\n",
              "    <tr>\n",
              "      <th>39713</th>\n",
              "      <td>squarewave solutions, ltd.</td>\n",
              "      <td>3 years</td>\n",
              "      <td>RENT</td>\n",
              "      <td>18000.0</td>\n",
              "      <td>Not Verified</td>\n",
              "      <td>2007-07-01</td>\n",
              "      <td>Fully Paid</td>\n",
              "      <td>https://lendingclub.com/browse/loanDetail.acti...</td>\n",
              "      <td>credit_card</td>\n",
              "      <td>retiring credit card debt</td>\n",
              "      <td>274xx</td>\n",
              "      <td>NC</td>\n",
              "      <td>6.40</td>\n",
              "      <td>1</td>\n",
              "      <td>Dec-86</td>\n",
              "      <td>1</td>\n",
              "      <td>6</td>\n",
              "      <td>0</td>\n",
              "      <td>8847</td>\n",
              "      <td>26.90%</td>\n",
              "      <td>9</td>\n",
              "      <td>0.00</td>\n",
              "      <td>0.00</td>\n",
              "      <td>9913.49</td>\n",
              "    </tr>\n",
              "    <tr>\n",
              "      <th>39714</th>\n",
              "      <td>NaN</td>\n",
              "      <td>&lt; 1 year</td>\n",
              "      <td>MORTGAGE</td>\n",
              "      <td>100000.0</td>\n",
              "      <td>Not Verified</td>\n",
              "      <td>2007-07-01</td>\n",
              "      <td>Fully Paid</td>\n",
              "      <td>https://lendingclub.com/browse/loanDetail.acti...</td>\n",
              "      <td>debt_consolidation</td>\n",
              "      <td>mba loan consolidation</td>\n",
              "      <td>017xx</td>\n",
              "      <td>MA</td>\n",
              "      <td>2.30</td>\n",
              "      <td>0</td>\n",
              "      <td>Oct-98</td>\n",
              "      <td>0</td>\n",
              "      <td>11</td>\n",
              "      <td>0</td>\n",
              "      <td>9698</td>\n",
              "      <td>19.40%</td>\n",
              "      <td>20</td>\n",
              "      <td>0.00</td>\n",
              "      <td>0.00</td>\n",
              "      <td>5272.16</td>\n",
              "    </tr>\n",
              "    <tr>\n",
              "      <th>39715</th>\n",
              "      <td>NaN</td>\n",
              "      <td>&lt; 1 year</td>\n",
              "      <td>MORTGAGE</td>\n",
              "      <td>200000.0</td>\n",
              "      <td>Not Verified</td>\n",
              "      <td>2007-07-01</td>\n",
              "      <td>Fully Paid</td>\n",
              "      <td>https://lendingclub.com/browse/loanDetail.acti...</td>\n",
              "      <td>other</td>\n",
              "      <td>jal loan</td>\n",
              "      <td>208xx</td>\n",
              "      <td>MD</td>\n",
              "      <td>3.72</td>\n",
              "      <td>0</td>\n",
              "      <td>Nov-88</td>\n",
              "      <td>0</td>\n",
              "      <td>17</td>\n",
              "      <td>0</td>\n",
              "      <td>85607</td>\n",
              "      <td>0.70%</td>\n",
              "      <td>26</td>\n",
              "      <td>0.00</td>\n",
              "      <td>0.00</td>\n",
              "      <td>5174.20</td>\n",
              "    </tr>\n",
              "    <tr>\n",
              "      <th>39716</th>\n",
              "      <td>evergreen center</td>\n",
              "      <td>&lt; 1 year</td>\n",
              "      <td>OWN</td>\n",
              "      <td>22000.0</td>\n",
              "      <td>Not Verified</td>\n",
              "      <td>2007-06-01</td>\n",
              "      <td>Fully Paid</td>\n",
              "      <td>https://lendingclub.com/browse/loanDetail.acti...</td>\n",
              "      <td>debt_consolidation</td>\n",
              "      <td>consolidation loan</td>\n",
              "      <td>027xx</td>\n",
              "      <td>MA</td>\n",
              "      <td>14.29</td>\n",
              "      <td>1</td>\n",
              "      <td>Oct-03</td>\n",
              "      <td>0</td>\n",
              "      <td>7</td>\n",
              "      <td>0</td>\n",
              "      <td>4175</td>\n",
              "      <td>51.50%</td>\n",
              "      <td>8</td>\n",
              "      <td>0.00</td>\n",
              "      <td>0.00</td>\n",
              "      <td>9195.26</td>\n",
              "    </tr>\n",
              "  </tbody>\n",
              "</table>\n",
              "<p>39717 rows × 24 columns</p>\n",
              "</div>"
            ],
            "text/plain": [
              "                        emp_title emp_length  ... out_prncp_inv  total_pymnt\n",
              "0                             NaN  10+ years  ...          0.00      5863.16\n",
              "1                           ryder   < 1 year  ...          0.00      1008.71\n",
              "2                             NaN  10+ years  ...          0.00      3005.67\n",
              "3             air resources board  10+ years  ...          0.00     12231.89\n",
              "4        university medical group     1 year  ...        524.06      3513.33\n",
              "...                           ...        ...  ...           ...          ...\n",
              "39712             fisite research    4 years  ...          0.00      2822.97\n",
              "39713  squarewave solutions, ltd.    3 years  ...          0.00      9913.49\n",
              "39714                         NaN   < 1 year  ...          0.00      5272.16\n",
              "39715                         NaN   < 1 year  ...          0.00      5174.20\n",
              "39716            evergreen center   < 1 year  ...          0.00      9195.26\n",
              "\n",
              "[39717 rows x 24 columns]"
            ]
          },
          "metadata": {
            "tags": []
          },
          "execution_count": 25
        }
      ]
    },
    {
      "cell_type": "code",
      "metadata": {
        "scrolled": true,
        "id": "vxeme7LP0hfS",
        "colab_type": "code",
        "outputId": "cd9cd7d8-2246-4ffc-8cac-378cea44c46a",
        "colab": {
          "base_uri": "https://localhost:8080/",
          "height": 926
        }
      },
      "source": [
        "df.info()"
      ],
      "execution_count": 26,
      "outputs": [
        {
          "output_type": "stream",
          "text": [
            "<class 'pandas.core.frame.DataFrame'>\n",
            "RangeIndex: 39717 entries, 0 to 39716\n",
            "Data columns (total 45 columns):\n",
            "id                         39717 non-null object\n",
            "member_id                  39717 non-null object\n",
            "loan_amnt                  39717 non-null int64\n",
            "funded_amnt                39717 non-null int64\n",
            "funded_amnt_inv            39717 non-null float64\n",
            "term                       39717 non-null object\n",
            "int_rate                   39717 non-null float64\n",
            "installment                39717 non-null float64\n",
            "grade                      39717 non-null object\n",
            "sub_grade                  39717 non-null object\n",
            "emp_title                  37258 non-null object\n",
            "emp_length                 38642 non-null object\n",
            "home_ownership             39717 non-null object\n",
            "annual_inc                 39717 non-null float64\n",
            "verification_status        39717 non-null object\n",
            "issue_d                    39717 non-null datetime64[ns]\n",
            "loan_status                39717 non-null object\n",
            "url                        39717 non-null object\n",
            "purpose                    39717 non-null object\n",
            "title                      39706 non-null object\n",
            "zip_code                   39717 non-null object\n",
            "addr_state                 39717 non-null object\n",
            "dti                        39717 non-null float64\n",
            "delinq_2yrs                39717 non-null int64\n",
            "earliest_cr_line           39717 non-null object\n",
            "inq_last_6mths             39717 non-null int64\n",
            "open_acc                   39717 non-null int64\n",
            "pub_rec                    39717 non-null int64\n",
            "revol_bal                  39717 non-null int64\n",
            "revol_util                 39667 non-null object\n",
            "total_acc                  39717 non-null int64\n",
            "out_prncp                  39717 non-null float64\n",
            "out_prncp_inv              39717 non-null float64\n",
            "total_pymnt                39717 non-null float64\n",
            "total_pymnt_inv            39717 non-null float64\n",
            "total_rec_prncp            39717 non-null float64\n",
            "total_rec_int              39717 non-null float64\n",
            "total_rec_late_fee         39717 non-null float64\n",
            "recoveries                 39717 non-null float64\n",
            "collection_recovery_fee    39717 non-null float64\n",
            "last_pymnt_d               39646 non-null object\n",
            "last_pymnt_amnt            39717 non-null float64\n",
            "last_credit_pull_d         39715 non-null object\n",
            "pub_rec_bankruptcies       39020 non-null float64\n",
            "issue_d_year               39717 non-null int64\n",
            "dtypes: datetime64[ns](1), float64(16), int64(9), object(19)\n",
            "memory usage: 13.6+ MB\n"
          ],
          "name": "stdout"
        }
      ]
    },
    {
      "cell_type": "markdown",
      "metadata": {
        "id": "uYEFk9Vs0hfY",
        "colab_type": "text"
      },
      "source": [
        "## Removing Outliers"
      ]
    },
    {
      "cell_type": "code",
      "metadata": {
        "id": "HKiNa40B0hfZ",
        "colab_type": "code",
        "outputId": "9e7c2691-1537-4f91-8831-f0d4cc86a85b",
        "colab": {
          "base_uri": "https://localhost:8080/",
          "height": 35
        }
      },
      "source": [
        "df['annual_inc'].max()"
      ],
      "execution_count": 27,
      "outputs": [
        {
          "output_type": "execute_result",
          "data": {
            "text/plain": [
              "6000000.0"
            ]
          },
          "metadata": {
            "tags": []
          },
          "execution_count": 27
        }
      ]
    },
    {
      "cell_type": "code",
      "metadata": {
        "id": "cJ5xZfbU0hfg",
        "colab_type": "code",
        "outputId": "a05bc0c0-4aa2-4603-cfe6-e75c3edc3133",
        "colab": {
          "base_uri": "https://localhost:8080/",
          "height": 35
        }
      },
      "source": [
        "df['annual_inc'].min()"
      ],
      "execution_count": 28,
      "outputs": [
        {
          "output_type": "execute_result",
          "data": {
            "text/plain": [
              "4000.0"
            ]
          },
          "metadata": {
            "tags": []
          },
          "execution_count": 28
        }
      ]
    },
    {
      "cell_type": "code",
      "metadata": {
        "id": "8pN2fipG0hfl",
        "colab_type": "code",
        "outputId": "a5a9dfef-4a24-40dc-bcc8-78df7f84838e",
        "colab": {
          "base_uri": "https://localhost:8080/",
          "height": 280
        }
      },
      "source": [
        "sns.boxplot(x=df['annual_inc'])\n",
        "plt.show()"
      ],
      "execution_count": 29,
      "outputs": [
        {
          "output_type": "display_data",
          "data": {
            "image/png": "[encoded data removed]",
            "text/plain": [
              "<Figure size 432x288 with 1 Axes>"
            ]
          },
          "metadata": {
            "tags": []
          }
        }
      ]
    },
    {
      "cell_type": "code",
      "metadata": {
        "id": "v_skNMR10hfq",
        "colab_type": "code",
        "colab": {}
      },
      "source": [
        "q = df[\"annual_inc\"].quantile(0.90)\n",
        "df = df[df[\"annual_inc\"] < q]"
      ],
      "execution_count": 0,
      "outputs": []
    },
    {
      "cell_type": "code",
      "metadata": {
        "scrolled": true,
        "id": "z9BzXKSt0hfv",
        "colab_type": "code",
        "outputId": "a4a32056-a55f-47a4-df68-4984ca346785",
        "colab": {
          "base_uri": "https://localhost:8080/",
          "height": 279
        }
      },
      "source": [
        "sns.boxplot(x=df['recoveries'])\n",
        "plt.show()"
      ],
      "execution_count": 31,
      "outputs": [
        {
          "output_type": "display_data",
          "data": {
            "image/png": "[encoded data removed]",
            "text/plain": [
              "<Figure size 432x288 with 1 Axes>"
            ]
          },
          "metadata": {
            "tags": []
          }
        }
      ]
    },
    {
      "cell_type": "code",
      "metadata": {
        "id": "dG9M8iQx0hf4",
        "colab_type": "code",
        "colab": {}
      },
      "source": [
        "q = df[\"recoveries\"].quantile(0.99)\n",
        "df = df.loc[df['recoveries']<=q]"
      ],
      "execution_count": 0,
      "outputs": []
    },
    {
      "cell_type": "code",
      "metadata": {
        "id": "vwEnMdOF0hf_",
        "colab_type": "code",
        "outputId": "c40aab0a-7710-4f4c-f699-a96c2181cbd4",
        "colab": {
          "base_uri": "https://localhost:8080/",
          "height": 280
        }
      },
      "source": [
        "sns.boxplot(x=df['total_pymnt_inv'])\n",
        "plt.show()"
      ],
      "execution_count": 33,
      "outputs": [
        {
          "output_type": "display_data",
          "data": {
            "image/png": "[encoded data removed]",
            "text/plain": [
              "<Figure size 432x288 with 1 Axes>"
            ]
          },
          "metadata": {
            "tags": []
          }
        }
      ]
    },
    {
      "cell_type": "code",
      "metadata": {
        "id": "GzNK1rXc0hgI",
        "colab_type": "code",
        "colab": {}
      },
      "source": [
        "q = df[\"total_pymnt_inv\"].quantile(0.99)\n",
        "df = df.loc[df['total_pymnt_inv']<=q]"
      ],
      "execution_count": 0,
      "outputs": []
    },
    {
      "cell_type": "code",
      "metadata": {
        "id": "OAmtTeJN0hgS",
        "colab_type": "code",
        "outputId": "e3c2c8ed-5199-4394-c477-b1d871b687f2",
        "colab": {
          "base_uri": "https://localhost:8080/",
          "height": 280
        }
      },
      "source": [
        "sns.boxplot(x=df['total_pymnt'])\n",
        "plt.show()"
      ],
      "execution_count": 35,
      "outputs": [
        {
          "output_type": "display_data",
          "data": {
            "image/png": "[encoded data removed]",
            "text/plain": [
              "<Figure size 432x288 with 1 Axes>"
            ]
          },
          "metadata": {
            "tags": []
          }
        }
      ]
    },
    {
      "cell_type": "code",
      "metadata": {
        "id": "7K4ZkPno0hgd",
        "colab_type": "code",
        "colab": {}
      },
      "source": [
        "q = df[\"total_pymnt\"].quantile(0.90)\n",
        "df = df.loc[df['total_pymnt']<=q]"
      ],
      "execution_count": 0,
      "outputs": []
    },
    {
      "cell_type": "code",
      "metadata": {
        "id": "bP9lIrO20hgm",
        "colab_type": "code",
        "outputId": "4dc46bd8-43a7-4429-bd55-6f440844e8cd",
        "colab": {
          "base_uri": "https://localhost:8080/",
          "height": 926
        }
      },
      "source": [
        "df.info()"
      ],
      "execution_count": 37,
      "outputs": [
        {
          "output_type": "stream",
          "text": [
            "<class 'pandas.core.frame.DataFrame'>\n",
            "Int64Index: 31525 entries, 0 to 39716\n",
            "Data columns (total 45 columns):\n",
            "id                         31525 non-null object\n",
            "member_id                  31525 non-null object\n",
            "loan_amnt                  31525 non-null int64\n",
            "funded_amnt                31525 non-null int64\n",
            "funded_amnt_inv            31525 non-null float64\n",
            "term                       31525 non-null object\n",
            "int_rate                   31525 non-null float64\n",
            "installment                31525 non-null float64\n",
            "grade                      31525 non-null object\n",
            "sub_grade                  31525 non-null object\n",
            "emp_title                  29568 non-null object\n",
            "emp_length                 30561 non-null object\n",
            "home_ownership             31525 non-null object\n",
            "annual_inc                 31525 non-null float64\n",
            "verification_status        31525 non-null object\n",
            "issue_d                    31525 non-null datetime64[ns]\n",
            "loan_status                31525 non-null object\n",
            "url                        31525 non-null object\n",
            "purpose                    31525 non-null object\n",
            "title                      31515 non-null object\n",
            "zip_code                   31525 non-null object\n",
            "addr_state                 31525 non-null object\n",
            "dti                        31525 non-null float64\n",
            "delinq_2yrs                31525 non-null int64\n",
            "earliest_cr_line           31525 non-null object\n",
            "inq_last_6mths             31525 non-null int64\n",
            "open_acc                   31525 non-null int64\n",
            "pub_rec                    31525 non-null int64\n",
            "revol_bal                  31525 non-null int64\n",
            "revol_util                 31478 non-null object\n",
            "total_acc                  31525 non-null int64\n",
            "out_prncp                  31525 non-null float64\n",
            "out_prncp_inv              31525 non-null float64\n",
            "total_pymnt                31525 non-null float64\n",
            "total_pymnt_inv            31525 non-null float64\n",
            "total_rec_prncp            31525 non-null float64\n",
            "total_rec_int              31525 non-null float64\n",
            "total_rec_late_fee         31525 non-null float64\n",
            "recoveries                 31525 non-null float64\n",
            "collection_recovery_fee    31525 non-null float64\n",
            "last_pymnt_d               31459 non-null object\n",
            "last_pymnt_amnt            31525 non-null float64\n",
            "last_credit_pull_d         31524 non-null object\n",
            "pub_rec_bankruptcies       30945 non-null float64\n",
            "issue_d_year               31525 non-null int64\n",
            "dtypes: datetime64[ns](1), float64(16), int64(9), object(19)\n",
            "memory usage: 11.1+ MB\n"
          ],
          "name": "stdout"
        }
      ]
    },
    {
      "cell_type": "markdown",
      "metadata": {
        "id": "jD6iOCYWDPfU",
        "colab_type": "text"
      },
      "source": [
        "# Data Analysis"
      ]
    },
    {
      "cell_type": "markdown",
      "metadata": {
        "id": "lsgsbP6v0hgu",
        "colab_type": "text"
      },
      "source": [
        "### Univariate Analysis"
      ]
    },
    {
      "cell_type": "code",
      "metadata": {
        "id": "-EVx7rNP0hgw",
        "colab_type": "code",
        "colab": {}
      },
      "source": [
        "#### Loan Status"
      ],
      "execution_count": 0,
      "outputs": []
    },
    {
      "cell_type": "code",
      "metadata": {
        "id": "udLZUtVr0hg2",
        "colab_type": "code",
        "outputId": "834f9e2b-9255-4b1d-9f6e-59fd5973ba5a",
        "colab": {
          "base_uri": "https://localhost:8080/",
          "height": 335
        }
      },
      "source": [
        "df['loan_status'].value_counts().plot.bar() # Plotting Loan Status - The target variable"
      ],
      "execution_count": 39,
      "outputs": [
        {
          "output_type": "execute_result",
          "data": {
            "text/plain": [
              "<matplotlib.axes._subplots.AxesSubplot at 0x7fc328aa62b0>"
            ]
          },
          "metadata": {
            "tags": []
          },
          "execution_count": 39
        },
        {
          "output_type": "display_data",
          "data": {
            "image/png": "[encoded data removed]",
            "text/plain": [
              "<Figure size 432x288 with 1 Axes>"
            ]
          },
          "metadata": {
            "tags": []
          }
        }
      ]
    },
    {
      "cell_type": "code",
      "metadata": {
        "id": "YuhsSy9m07ja",
        "colab_type": "code",
        "colab": {}
      },
      "source": [
        "df= df[df['loan_status']!='Current'] # Removing rows with 'Current' status"
      ],
      "execution_count": 0,
      "outputs": []
    },
    {
      "cell_type": "code",
      "metadata": {
        "id": "VBJE7hMXNI2K",
        "colab_type": "code",
        "colab": {}
      },
      "source": [
        "df['loan_status'] = df['loan_status'].replace('Fully Paid',1,regex=True) #Replace fully paid with 1\n",
        "df['loan_status'] = df['loan_status'].replace('Charged Off',0,regex=True)# Replace harged off with 0\n"
      ],
      "execution_count": 0,
      "outputs": []
    },
    {
      "cell_type": "code",
      "metadata": {
        "id": "uqz5i3x_0hg6",
        "colab_type": "code",
        "colab": {}
      },
      "source": [
        "#Loan Status vs loan amount"
      ],
      "execution_count": 0,
      "outputs": []
    },
    {
      "cell_type": "code",
      "metadata": {
        "id": "Dgsp3S6f4wQz",
        "colab_type": "code",
        "colab": {
          "base_uri": "https://localhost:8080/",
          "height": 72
        },
        "outputId": "0611a02c-cd3a-4a35-8b29-9761338ca2eb"
      },
      "source": [
        "df['loan_status'].value_counts()"
      ],
      "execution_count": 43,
      "outputs": [
        {
          "output_type": "execute_result",
          "data": {
            "text/plain": [
              "1    26156\n",
              "0     4762\n",
              "Name: loan_status, dtype: int64"
            ]
          },
          "metadata": {
            "tags": []
          },
          "execution_count": 43
        }
      ]
    },
    {
      "cell_type": "code",
      "metadata": {
        "id": "0hxN_g0xOPci",
        "colab_type": "code",
        "outputId": "0549e4a7-e100-40e0-81f9-086e72315eb5",
        "colab": {
          "base_uri": "https://localhost:8080/",
          "height": 295
        }
      },
      "source": [
        "ax = df.groupby('loan_status')['loan_status'].count().plot.bar(color='g')#Plot ba graph loan status vs frequency of loan status\n",
        "plt.ylabel('Frequency of Loan Status')"
      ],
      "execution_count": 44,
      "outputs": [
        {
          "output_type": "execute_result",
          "data": {
            "text/plain": [
              "Text(0, 0.5, 'Frequency of Loan Status')"
            ]
          },
          "metadata": {
            "tags": []
          },
          "execution_count": 44
        },
        {
          "output_type": "display_data",
          "data": {
            "image/png": "[encoded data removed]",
            "text/plain": [
              "<Figure size 432x288 with 1 Axes>"
            ]
          },
          "metadata": {
            "tags": []
          }
        }
      ]
    },
    {
      "cell_type": "code",
      "metadata": {
        "id": "JKDLqQGp0hg_",
        "colab_type": "code",
        "outputId": "791c30fa-082a-4fc6-ac30-0b65207f804a",
        "colab": {
          "base_uri": "https://localhost:8080/",
          "height": 306
        }
      },
      "source": [
        "ax = df.groupby('loan_status')['loan_amnt'].sum().plot.bar(color='g')#Plot loan amount vs loan status\n",
        "plt.ylabel('Loan_Amount')"
      ],
      "execution_count": 45,
      "outputs": [
        {
          "output_type": "execute_result",
          "data": {
            "text/plain": [
              "Text(0, 0.5, 'Loan_Amount')"
            ]
          },
          "metadata": {
            "tags": []
          },
          "execution_count": 45
        },
        {
          "output_type": "display_data",
          "data": {
            "image/png": "[encoded data removed]",
            "text/plain": [
              "<Figure size 432x288 with 1 Axes>"
            ]
          },
          "metadata": {
            "tags": []
          }
        }
      ]
    },
    {
      "cell_type": "code",
      "metadata": {
        "id": "MzXIBtehAOMv",
        "colab_type": "code",
        "colab": {
          "base_uri": "https://localhost:8080/",
          "height": 306
        },
        "outputId": "86aa58f6-472f-4439-f850-ffb1f7eb07a3"
      },
      "source": [
        "ax = df.groupby('loan_status')['funded_amnt'].sum().plot.bar(color='g')#Plot loan status vs funded amount\n",
        "plt.ylabel('Funding Amount')"
      ],
      "execution_count": 66,
      "outputs": [
        {
          "output_type": "execute_result",
          "data": {
            "text/plain": [
              "Text(0, 0.5, 'Funding Amount')"
            ]
          },
          "metadata": {
            "tags": []
          },
          "execution_count": 66
        },
        {
          "output_type": "display_data",
          "data": {
            "image/png": "[encoded data removed]",
            "text/plain": [
              "<Figure size 432x288 with 1 Axes>"
            ]
          },
          "metadata": {
            "tags": []
          }
        }
      ]
    },
    {
      "cell_type": "code",
      "metadata": {
        "id": "3tYMudXcSBcp",
        "colab_type": "code",
        "outputId": "fcb20b04-3168-4a79-9ead-483bd372ba8c",
        "colab": {
          "base_uri": "https://localhost:8080/",
          "height": 387
        }
      },
      "source": [
        "ax = df.groupby('purpose')['loan_status'].count().plot.bar(color='g')\n",
        "plt.ylabel('Loan_status')"
      ],
      "execution_count": 46,
      "outputs": [
        {
          "output_type": "execute_result",
          "data": {
            "text/plain": [
              "Text(0, 0.5, 'Loan_status')"
            ]
          },
          "metadata": {
            "tags": []
          },
          "execution_count": 46
        },
        {
          "output_type": "display_data",
          "data": {
            "image/png": "[encoded data removed]",
            "text/plain": [
              "<Figure size 432x288 with 1 Axes>"
            ]
          },
          "metadata": {
            "tags": []
          }
        }
      ]
    },
    {
      "cell_type": "code",
      "metadata": {
        "id": "cM0jD_y9Sedg",
        "colab_type": "code",
        "outputId": "fb760c65-aadb-4e95-b14e-7fdcef52a58a",
        "colab": {
          "base_uri": "https://localhost:8080/",
          "height": 295
        }
      },
      "source": [
        "ax = df.groupby('grade')['loan_status'].count().plot.bar(color='g')\n",
        "plt.ylabel('Loan_status')"
      ],
      "execution_count": 47,
      "outputs": [
        {
          "output_type": "execute_result",
          "data": {
            "text/plain": [
              "Text(0, 0.5, 'Loan_status')"
            ]
          },
          "metadata": {
            "tags": []
          },
          "execution_count": 47
        },
        {
          "output_type": "display_data",
          "data": {
            "image/png": "[encoded data removed]",
            "text/plain": [
              "<Figure size 432x288 with 1 Axes>"
            ]
          },
          "metadata": {
            "tags": []
          }
        }
      ]
    },
    {
      "cell_type": "code",
      "metadata": {
        "id": "ZFM_VpbW0hhP",
        "colab_type": "code",
        "colab": {}
      },
      "source": [
        "# Purpose vs loan amount"
      ],
      "execution_count": 0,
      "outputs": []
    },
    {
      "cell_type": "code",
      "metadata": {
        "id": "D4dLBrNl0hhg",
        "colab_type": "code",
        "colab": {}
      },
      "source": [
        "df_charged_off = df[df['loan_status']==0]"
      ],
      "execution_count": 0,
      "outputs": []
    },
    {
      "cell_type": "code",
      "metadata": {
        "id": "G0k4Ffnk0hhY",
        "colab_type": "code",
        "outputId": "b51e6c95-99ce-40e4-a2ce-856b9cc51fc7",
        "colab": {
          "base_uri": "https://localhost:8080/",
          "height": 387
        }
      },
      "source": [
        "df_charged_off.groupby('purpose')['loan_status'].count().plot.bar(color='g')\n",
        "# plt.ylabel('Loan_status')"
      ],
      "execution_count": 50,
      "outputs": [
        {
          "output_type": "execute_result",
          "data": {
            "text/plain": [
              "<matplotlib.axes._subplots.AxesSubplot at 0x7fc3281be1d0>"
            ]
          },
          "metadata": {
            "tags": []
          },
          "execution_count": 50
        },
        {
          "output_type": "display_data",
          "data": {
            "image/png": "[encoded data removed]",
            "text/plain": [
              "<Figure size 432x288 with 1 Axes>"
            ]
          },
          "metadata": {
            "tags": []
          }
        }
      ]
    },
    {
      "cell_type": "markdown",
      "metadata": {
        "id": "UpRYHaCH0hhl",
        "colab_type": "text"
      },
      "source": [
        "#### Distribution of 'term' in which the loan was 'Defaulted'"
      ]
    },
    {
      "cell_type": "code",
      "metadata": {
        "id": "dAkfkUD30hhq",
        "colab_type": "code",
        "outputId": "665e04ac-5cd4-4642-f279-cf4a6dab0dbd",
        "colab": {
          "base_uri": "https://localhost:8080/",
          "height": 330
        }
      },
      "source": [
        "df_charged_off['term'].value_counts().plot.bar()"
      ],
      "execution_count": 51,
      "outputs": [
        {
          "output_type": "execute_result",
          "data": {
            "text/plain": [
              "<matplotlib.axes._subplots.AxesSubplot at 0x7fc32819b4a8>"
            ]
          },
          "metadata": {
            "tags": []
          },
          "execution_count": 51
        },
        {
          "output_type": "display_data",
          "data": {
            "image/png": "[encoded data removed]",
            "text/plain": [
              "<Figure size 432x288 with 1 Axes>"
            ]
          },
          "metadata": {
            "tags": []
          }
        }
      ]
    },
    {
      "cell_type": "code",
      "metadata": {
        "id": "5T81pnnn_flQ",
        "colab_type": "code",
        "colab": {}
      },
      "source": [
        "ax = df_charged_off.groupby('grade')['loan_status'].count().plot.bar(color='g')\n",
        "plt.ylabel('Loan_status')"
      ],
      "execution_count": 0,
      "outputs": []
    },
    {
      "cell_type": "code",
      "metadata": {
        "id": "da2yF6p3SyEc",
        "colab_type": "code",
        "outputId": "816152a7-e663-4a30-b8f0-6b5cbc1289c7",
        "colab": {
          "base_uri": "https://localhost:8080/",
          "height": 295
        }
      },
      "source": [
        "ax = df_charged_off.groupby('grade')['loan_status'].count().plot.bar(color='g')\n",
        "plt.ylabel('Loan_status')"
      ],
      "execution_count": 52,
      "outputs": [
        {
          "output_type": "execute_result",
          "data": {
            "text/plain": [
              "Text(0, 0.5, 'Loan_status')"
            ]
          },
          "metadata": {
            "tags": []
          },
          "execution_count": 52
        },
        {
          "output_type": "display_data",
          "data": {
            "image/png": "[encoded data removed]",
            "text/plain": [
              "<Figure size 432x288 with 1 Axes>"
            ]
          },
          "metadata": {
            "tags": []
          }
        }
      ]
    },
    {
      "cell_type": "code",
      "metadata": {
        "id": "MKGgJg16kWoG",
        "colab_type": "code",
        "outputId": "a6302fd7-6ef8-42ef-d583-119ea80bab8a",
        "colab": {
          "base_uri": "https://localhost:8080/",
          "height": 315
        }
      },
      "source": [
        "ax = df_charged_off.groupby('issue_d_year')['loan_status'].count().plot.bar(color='r')\n",
        "plt.ylabel('Loan_status')"
      ],
      "execution_count": 53,
      "outputs": [
        {
          "output_type": "execute_result",
          "data": {
            "text/plain": [
              "Text(0, 0.5, 'Loan_status')"
            ]
          },
          "metadata": {
            "tags": []
          },
          "execution_count": 53
        },
        {
          "output_type": "display_data",
          "data": {
            "image/png": "[encoded data removed]",
            "text/plain": [
              "<Figure size 432x288 with 1 Axes>"
            ]
          },
          "metadata": {
            "tags": []
          }
        }
      ]
    },
    {
      "cell_type": "code",
      "metadata": {
        "id": "fUHL7SjkrNMy",
        "colab_type": "code",
        "outputId": "8d167838-d79c-4cc7-dadb-4e7785a4f697",
        "colab": {
          "base_uri": "https://localhost:8080/",
          "height": 310
        }
      },
      "source": [
        "ax = df_charged_off.groupby('int_rate')['loan_status'].count().plot.bar(color='r')\n",
        "plt.ylabel('Loan_status')\n"
      ],
      "execution_count": 54,
      "outputs": [
        {
          "output_type": "execute_result",
          "data": {
            "text/plain": [
              "Text(0, 0.5, 'Loan_status')"
            ]
          },
          "metadata": {
            "tags": []
          },
          "execution_count": 54
        },
        {
          "output_type": "display_data",
          "data": {
            "image/png": "[encoded data removed]",
            "text/plain": [
              "<Figure size 432x288 with 1 Axes>"
            ]
          },
          "metadata": {
            "tags": []
          }
        }
      ]
    },
    {
      "cell_type": "code",
      "metadata": {
        "id": "MKsCjOYS0hiT",
        "colab_type": "code",
        "outputId": "f8e696c8-2cef-4386-e038-bf2dbe5f3f68",
        "colab": {
          "base_uri": "https://localhost:8080/",
          "height": 346
        }
      },
      "source": [
        "ax = df_charged_off.groupby('home_ownership')['loan_status'].count().plot.bar(color='r')\n",
        "plt.ylabel('Loan_status')\n"
      ],
      "execution_count": 55,
      "outputs": [
        {
          "output_type": "execute_result",
          "data": {
            "text/plain": [
              "Text(0, 0.5, 'Loan_status')"
            ]
          },
          "metadata": {
            "tags": []
          },
          "execution_count": 55
        },
        {
          "output_type": "display_data",
          "data": {
            "image/png": "[encoded data removed]",
            "text/plain": [
              "<Figure size 432x288 with 1 Axes>"
            ]
          },
          "metadata": {
            "tags": []
          }
        }
      ]
    },
    {
      "cell_type": "markdown",
      "metadata": {
        "id": "oAhoiz3q0hiw",
        "colab_type": "text"
      },
      "source": [
        "#### Distribution of 'emp_length' in which the loan was 'Defaulted'"
      ]
    },
    {
      "cell_type": "code",
      "metadata": {
        "id": "5_0sD9Ix0hiy",
        "colab_type": "code",
        "outputId": "28d1ac91-1c7f-4541-e8d2-a650ed3dd40e",
        "colab": {
          "base_uri": "https://localhost:8080/",
          "height": 283
        }
      },
      "source": [
        "df_charged_off['emp_length'].value_counts().plot.barh()"
      ],
      "execution_count": 56,
      "outputs": [
        {
          "output_type": "execute_result",
          "data": {
            "text/plain": [
              "<matplotlib.axes._subplots.AxesSubplot at 0x7fc328b2e4e0>"
            ]
          },
          "metadata": {
            "tags": []
          },
          "execution_count": 56
        },
        {
          "output_type": "display_data",
          "data": {
            "image/png": "[encoded data removed]",
            "text/plain": [
              "<Figure size 432x288 with 1 Axes>"
            ]
          },
          "metadata": {
            "tags": []
          }
        }
      ]
    },
    {
      "cell_type": "markdown",
      "metadata": {
        "id": "kyHOSJ520hi6",
        "colab_type": "text"
      },
      "source": [
        "#### People having more than 10+ emp years have dafaulted loan"
      ]
    },
    {
      "cell_type": "code",
      "metadata": {
        "id": "CTwgPWfD0hi7",
        "colab_type": "code",
        "colab": {}
      },
      "source": [
        "####################################################"
      ],
      "execution_count": 0,
      "outputs": []
    },
    {
      "cell_type": "markdown",
      "metadata": {
        "id": "vcKqvh7Y0hi_",
        "colab_type": "text"
      },
      "source": [
        "#### Distribution of 'verififcation status' in which the loan was 'Defaulted'"
      ]
    },
    {
      "cell_type": "code",
      "metadata": {
        "id": "LvqKy_BF0hjB",
        "colab_type": "code",
        "outputId": "7472583f-5993-4448-8cd8-0826a970c10d",
        "colab": {
          "base_uri": "https://localhost:8080/",
          "height": 283
        }
      },
      "source": [
        "df_charged_off['verification_status'].value_counts().plot.barh()"
      ],
      "execution_count": 58,
      "outputs": [
        {
          "output_type": "execute_result",
          "data": {
            "text/plain": [
              "<matplotlib.axes._subplots.AxesSubplot at 0x7fc32913a278>"
            ]
          },
          "metadata": {
            "tags": []
          },
          "execution_count": 58
        },
        {
          "output_type": "display_data",
          "data": {
            "image/png": "[encoded data removed]",
            "text/plain": [
              "<Figure size 432x288 with 1 Axes>"
            ]
          },
          "metadata": {
            "tags": []
          }
        }
      ]
    },
    {
      "cell_type": "code",
      "metadata": {
        "id": "BwB1rJNE0hjH",
        "colab_type": "code",
        "outputId": "ed9503f8-35a5-4cc0-fb18-c17291e8fdd2",
        "colab": {
          "base_uri": "https://localhost:8080/",
          "height": 415
        }
      },
      "source": [
        "df_charged_off['emp_title'].value_counts().head(10).plot.bar()"
      ],
      "execution_count": 59,
      "outputs": [
        {
          "output_type": "execute_result",
          "data": {
            "text/plain": [
              "<matplotlib.axes._subplots.AxesSubplot at 0x7fc328b9b8d0>"
            ]
          },
          "metadata": {
            "tags": []
          },
          "execution_count": 59
        },
        {
          "output_type": "display_data",
          "data": {
            "image/png": "[encoded data removed]",
            "text/plain": [
              "<Figure size 432x288 with 1 Axes>"
            ]
          },
          "metadata": {
            "tags": []
          }
        }
      ]
    },
    {
      "cell_type": "code",
      "metadata": {
        "id": "vP9fFo_T0hjK",
        "colab_type": "code",
        "outputId": "f7297788-6f09-4bc5-c359-54329b62480d",
        "colab": {
          "base_uri": "https://localhost:8080/",
          "height": 291
        }
      },
      "source": [
        "df_charged_off['addr_state'].value_counts().head(10).plot.bar()"
      ],
      "execution_count": 60,
      "outputs": [
        {
          "output_type": "execute_result",
          "data": {
            "text/plain": [
              "<matplotlib.axes._subplots.AxesSubplot at 0x7fc327e6dc50>"
            ]
          },
          "metadata": {
            "tags": []
          },
          "execution_count": 60
        },
        {
          "output_type": "display_data",
          "data": {
            "image/png": "[encoded data removed]",
            "text/plain": [
              "<Figure size 432x288 with 1 Axes>"
            ]
          },
          "metadata": {
            "tags": []
          }
        }
      ]
    },
    {
      "cell_type": "markdown",
      "metadata": {
        "id": "Y6Ovof_rCpyC",
        "colab_type": "text"
      },
      "source": [
        "**Bivariate Analysis**"
      ]
    },
    {
      "cell_type": "code",
      "metadata": {
        "id": "Xc9vIJ1Dt_0h",
        "colab_type": "code",
        "outputId": "056a965d-289e-4e73-82d6-a8b92c233df5",
        "colab": {
          "base_uri": "https://localhost:8080/",
          "height": 295
        }
      },
      "source": [
        "ax = df_charged_off.groupby('pub_rec')['loan_status'].count().plot.bar(color='r')\n",
        "plt.ylabel('Loan_status')"
      ],
      "execution_count": 64,
      "outputs": [
        {
          "output_type": "execute_result",
          "data": {
            "text/plain": [
              "Text(0, 0.5, 'Loan_status')"
            ]
          },
          "metadata": {
            "tags": []
          },
          "execution_count": 64
        },
        {
          "output_type": "display_data",
          "data": {
            "image/png": "[encoded data removed]",
            "text/plain": [
              "<Figure size 432x288 with 1 Axes>"
            ]
          },
          "metadata": {
            "tags": []
          }
        }
      ]
    },
    {
      "cell_type": "code",
      "metadata": {
        "id": "LR_j_C2ZQTNn",
        "colab_type": "code",
        "outputId": "666321e8-8d12-4d93-cbab-0043ea4e8472",
        "colab": {
          "base_uri": "https://localhost:8080/",
          "height": 280
        }
      },
      "source": [
        "df_charged_off.plot(kind='scatter',x='annual_inc',y='loan_amnt',color='red')#plot relatioship between loan amount and annual income\n",
        "plt.show()"
      ],
      "execution_count": 61,
      "outputs": [
        {
          "output_type": "display_data",
          "data": {
            "image/png": "[encoded data removed]",
            "text/plain": [
              "<Figure size 432x288 with 1 Axes>"
            ]
          },
          "metadata": {
            "tags": []
          }
        }
      ]
    },
    {
      "cell_type": "code",
      "metadata": {
        "id": "yi8GeckTQ2nt",
        "colab_type": "code",
        "outputId": "24dcc8c2-9f54-4048-96c2-2d1978621803",
        "colab": {
          "base_uri": "https://localhost:8080/",
          "height": 280
        }
      },
      "source": [
        "df_charged_off.plot(kind='scatter',x='annual_inc',y='int_rate',color='orange')#Plot relationship with interest rate and annual income\n",
        "plt.show()"
      ],
      "execution_count": 62,
      "outputs": [
        {
          "output_type": "display_data",
          "data": {
            "image/png": "[encoded data removed]",
            "text/plain": [
              "<Figure size 432x288 with 1 Axes>"
            ]
          },
          "metadata": {
            "tags": []
          }
        }
      ]
    },
    {
      "cell_type": "code",
      "metadata": {
        "id": "htGwwwGTq9eS",
        "colab_type": "code",
        "outputId": "601791a8-c9aa-4bd1-cde2-81814ca0d76c",
        "colab": {
          "base_uri": "https://localhost:8080/",
          "height": 280
        }
      },
      "source": [
        "df_charged_off.plot(kind='scatter',x='loan_amnt',y='int_rate',color='blue')\n",
        "plt.show()"
      ],
      "execution_count": 63,
      "outputs": [
        {
          "output_type": "display_data",
          "data": {
            "image/png": "[encoded data removed]",
            "text/plain": [
              "<Figure size 432x288 with 1 Axes>"
            ]
          },
          "metadata": {
            "tags": []
          }
        }
      ]
    }
  ]
}